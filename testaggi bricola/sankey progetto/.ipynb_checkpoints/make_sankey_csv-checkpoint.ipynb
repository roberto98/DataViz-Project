{
 "cells": [
  {
   "cell_type": "code",
   "execution_count": 1,
   "id": "f79a38f3-1337-413e-9ba4-3ec2a399e9ac",
   "metadata": {},
   "outputs": [],
   "source": [
    "import pandas as pd\n",
    "source_file = \"2000.csv\";\n",
    "country = \"Argentina\";\n",
    "df = pd.read_csv(source_file);"
   ]
  },
  {
   "cell_type": "code",
   "execution_count": 2,
   "id": "2b7017db-1a35-4dd6-b08b-ddea941d590e",
   "metadata": {},
   "outputs": [
    {
     "ename": "NameError",
     "evalue": "name 'Country' is not defined",
     "output_type": "error",
     "traceback": [
      "\u001b[1;31m---------------------------------------------------------------------------\u001b[0m",
      "\u001b[1;31mNameError\u001b[0m                                 Traceback (most recent call last)",
      "Cell \u001b[1;32mIn [2], line 7\u001b[0m\n\u001b[0;32m      5\u001b[0m end_col \u001b[38;5;241m=\u001b[39m \u001b[38;5;241m3\u001b[39m\n\u001b[0;32m      6\u001b[0m table_output \u001b[38;5;241m=\u001b[39m []\n\u001b[1;32m----> 7\u001b[0m table_output\u001b[38;5;241m.\u001b[39mappend([\u001b[38;5;124m'\u001b[39m\u001b[38;5;124mAll Causes\u001b[39m\u001b[38;5;124m'\u001b[39m, \u001b[38;5;124m'\u001b[39m\u001b[38;5;124mCommunicable, maternal, perinatal and nutritional conditions\u001b[39m\u001b[38;5;124m'\u001b[39m, df\u001b[38;5;241m.\u001b[39mloc[\u001b[38;5;241m3\u001b[39m, \u001b[43mCountry\u001b[49m]])\n\u001b[0;32m      8\u001b[0m table_output\u001b[38;5;241m.\u001b[39mappend([\u001b[38;5;124m'\u001b[39m\u001b[38;5;124mAll Causes\u001b[39m\u001b[38;5;124m'\u001b[39m, \u001b[38;5;124m'\u001b[39m\u001b[38;5;124mNoncommunicable diseases\u001b[39m\u001b[38;5;124m'\u001b[39m, df\u001b[38;5;241m.\u001b[39mloc[\u001b[38;5;241m64\u001b[39m, Country]])\n\u001b[0;32m      9\u001b[0m table_output\u001b[38;5;241m.\u001b[39mappend([\u001b[38;5;124m'\u001b[39m\u001b[38;5;124mAll Causes\u001b[39m\u001b[38;5;124m'\u001b[39m, \u001b[38;5;124m'\u001b[39m\u001b[38;5;124mInjuries\u001b[39m\u001b[38;5;124m'\u001b[39m, df\u001b[38;5;241m.\u001b[39mloc[\u001b[38;5;241m192\u001b[39m, Country]])\n",
      "\u001b[1;31mNameError\u001b[0m: name 'Country' is not defined"
     ]
    }
   ],
   "source": [
    "link_list = []\n",
    "start_row = 3\n",
    "end_row = 205\n",
    "start_col = 1\n",
    "end_col = 3\n",
    "table_output = []\n",
    "table_output.append(['All Causes', 'Communicable, maternal, perinatal and nutritional conditions', df.loc[3, country]])\n",
    "table_output.append(['All Causes', 'Noncommunicable diseases', df.loc[64, country]])\n",
    "table_output.append(['All Causes', 'Injuries', df.loc[192, country]])\n",
    "for i in range(start_row,end_row):\n",
    "    for j in range(start_col,end_col):\n",
    "        elem = df.iloc[i,j];\n",
    "        right_elem = df.iloc[i,j+1];\n",
    "        num_cases = df.loc[i, country]\n",
    "        if num_cases==\".\" or num_cases==\"0\" or pd.isna(df.iloc[i,j+1]):\n",
    "            num_cases = \"0.0\"\n",
    "        tuple_ = (elem, right_elem)\n",
    "        if tuple_ not in link_list:\n",
    "            link_list.append(tuple_)\n",
    "            table_output.append([elem, right_elem, num_cases])\n",
    "table_output = pd.DataFrame(table_output, columns=['source', 'target', 'value'])\n",
    "table_output = table_output.dropna(how='any', axis=0)\n",
    "table_output.to_csv(\"argentina_sankey.csv\")"
   ]
  },
  {
   "cell_type": "code",
   "execution_count": null,
   "id": "aaf22f48-73b8-457f-9afc-e80eb2cb8800",
   "metadata": {},
   "outputs": [],
   "source": [
    "table_output"
   ]
  },
  {
   "cell_type": "code",
   "execution_count": null,
   "id": "3f6d93fb-9d48-469d-8566-a6613456bb6c",
   "metadata": {},
   "outputs": [],
   "source": []
  },
  {
   "cell_type": "code",
   "execution_count": null,
   "id": "a6809ace-b1eb-4413-ac5d-c9183475f613",
   "metadata": {},
   "outputs": [],
   "source": []
  }
 ],
 "metadata": {
  "kernelspec": {
   "display_name": "Python 3 (ipykernel)",
   "language": "python",
   "name": "python3"
  },
  "language_info": {
   "codemirror_mode": {
    "name": "ipython",
    "version": 3
   },
   "file_extension": ".py",
   "mimetype": "text/x-python",
   "name": "python",
   "nbconvert_exporter": "python",
   "pygments_lexer": "ipython3",
   "version": "3.9.12"
  }
 },
 "nbformat": 4,
 "nbformat_minor": 5
}
