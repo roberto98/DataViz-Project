{
 "cells": [
  {
   "cell_type": "code",
   "execution_count": 22,
   "id": "f79a38f3-1337-413e-9ba4-3ec2a399e9ac",
   "metadata": {},
   "outputs": [],
   "source": [
    "import pandas as pd\n",
    "import numpy as np\n",
    "import utils\n",
    "source_file = \"2000.csv\";\n",
    "df = pd.read_csv(source_file);\n",
    "countries = list(df.columns);\n",
    "start = np.where(np.array(countries)==\"Afghanistan\")[0][0]\n",
    "end = np.where(np.array(countries)==\"Zimbabwe\")[0][0]\n",
    "countries = countries[start:end+1]\n",
    "firstCol = [\"All Causes\"]\n",
    "secondCol = ['Communicable, maternal, perinatal and nutritional conditions', 'Noncommunicable diseases']\n",
    "thirdCol = list(df['specific2'].dropna().to_numpy())\n",
    "cols_small = [firstCol, secondCol]\n",
    "cols_groups = [firstCol, secondCol, thirdCol]"
   ]
  },
  {
   "cell_type": "code",
   "execution_count": 23,
   "id": "de66bb43-0ddf-4630-a8a0-a15780d4271b",
   "metadata": {},
   "outputs": [
    {
     "data": {
      "text/plain": [
       "'Noncommunicable diseases'"
      ]
     },
     "execution_count": 23,
     "metadata": {},
     "output_type": "execute_result"
    }
   ],
   "source": [
    "df.iloc[191,1]"
   ]
  },
  {
   "cell_type": "markdown",
   "id": "195a1489-3339-4f67-9855-b11beb80c3ec",
   "metadata": {
    "jp-MarkdownHeadingCollapsed": true,
    "tags": []
   },
   "source": [
    "#### sankey un paese"
   ]
  },
  {
   "cell_type": "code",
   "execution_count": 3,
   "id": "2b7017db-1a35-4dd6-b08b-ddea941d590e",
   "metadata": {},
   "outputs": [],
   "source": [
    "link_list = []\n",
    "start_row = 3\n",
    "end_row = 205\n",
    "start_col = 1\n",
    "end_col = 3\n",
    "table_output = []\n",
    "table_output.append(['All Causes', 'Communicable, maternal, perinatal and nutritional conditions', df.loc[3, country]])\n",
    "table_output.append(['All Causes', 'Noncommunicable diseases', df.loc[64, country]])\n",
    "table_output.append(['All Causes', 'Injuries', df.loc[192, country]])\n",
    "for i in range(start_row,end_row):\n",
    "    for j in range(start_col,end_col):\n",
    "        elem = df.iloc[i,j];\n",
    "        right_elem = df.iloc[i,j+1];\n",
    "        num_cases = df.loc[i, country]\n",
    "        if num_cases==\".\" or num_cases==\"0\" or pd.isna(df.iloc[i,j+1]):\n",
    "            num_cases = \"0.0\"\n",
    "        tuple_ = (elem, right_elem)\n",
    "        if tuple_ not in link_list:\n",
    "            link_list.append(tuple_)\n",
    "            table_output.append([elem, right_elem, num_cases])\n",
    "table_output = pd.DataFrame(table_output, columns=['source', 'target', 'value'])\n",
    "table_output = table_output.dropna(how='any', axis=0)\n",
    "table_output.to_csv(\"argentina_sankey.csv\")"
   ]
  },
  {
   "cell_type": "code",
   "execution_count": 4,
   "id": "aaf22f48-73b8-457f-9afc-e80eb2cb8800",
   "metadata": {},
   "outputs": [
    {
     "data": {
      "text/html": [
       "<div>\n",
       "<style scoped>\n",
       "    .dataframe tbody tr th:only-of-type {\n",
       "        vertical-align: middle;\n",
       "    }\n",
       "\n",
       "    .dataframe tbody tr th {\n",
       "        vertical-align: top;\n",
       "    }\n",
       "\n",
       "    .dataframe thead th {\n",
       "        text-align: right;\n",
       "    }\n",
       "</style>\n",
       "<table border=\"1\" class=\"dataframe\">\n",
       "  <thead>\n",
       "    <tr style=\"text-align: right;\">\n",
       "      <th></th>\n",
       "      <th>source</th>\n",
       "      <th>target</th>\n",
       "      <th>value</th>\n",
       "    </tr>\n",
       "  </thead>\n",
       "  <tbody>\n",
       "    <tr>\n",
       "      <th>0</th>\n",
       "      <td>All Causes</td>\n",
       "      <td>Communicable, maternal, perinatal and nutritio...</td>\n",
       "      <td>34.0</td>\n",
       "    </tr>\n",
       "    <tr>\n",
       "      <th>1</th>\n",
       "      <td>All Causes</td>\n",
       "      <td>Noncommunicable diseases</td>\n",
       "      <td>223.7</td>\n",
       "    </tr>\n",
       "    <tr>\n",
       "      <th>2</th>\n",
       "      <td>All Causes</td>\n",
       "      <td>Injuries</td>\n",
       "      <td>19.4</td>\n",
       "    </tr>\n",
       "    <tr>\n",
       "      <th>5</th>\n",
       "      <td>Communicable, maternal, perinatal and nutritio...</td>\n",
       "      <td>Infectious and parasitic diseases</td>\n",
       "      <td>14.4</td>\n",
       "    </tr>\n",
       "    <tr>\n",
       "      <th>7</th>\n",
       "      <td>Infectious and parasitic diseases</td>\n",
       "      <td>Tuberculosis</td>\n",
       "      <td>0.9</td>\n",
       "    </tr>\n",
       "    <tr>\n",
       "      <th>...</th>\n",
       "      <td>...</td>\n",
       "      <td>...</td>\n",
       "      <td>...</td>\n",
       "    </tr>\n",
       "    <tr>\n",
       "      <th>162</th>\n",
       "      <td>Unintentional injuries</td>\n",
       "      <td>Natural disasters</td>\n",
       "      <td>0.0</td>\n",
       "    </tr>\n",
       "    <tr>\n",
       "      <th>163</th>\n",
       "      <td>Unintentional injuries</td>\n",
       "      <td>Other unintentional injuries</td>\n",
       "      <td>6.6</td>\n",
       "    </tr>\n",
       "    <tr>\n",
       "      <th>164</th>\n",
       "      <td>Injuries</td>\n",
       "      <td>Intentional injuries</td>\n",
       "      <td>6.1</td>\n",
       "    </tr>\n",
       "    <tr>\n",
       "      <th>166</th>\n",
       "      <td>Intentional injuries</td>\n",
       "      <td>Self-harm</td>\n",
       "      <td>3.4</td>\n",
       "    </tr>\n",
       "    <tr>\n",
       "      <th>167</th>\n",
       "      <td>Intentional injuries</td>\n",
       "      <td>Interpersonal violence</td>\n",
       "      <td>2.7</td>\n",
       "    </tr>\n",
       "  </tbody>\n",
       "</table>\n",
       "<p>141 rows × 3 columns</p>\n",
       "</div>"
      ],
      "text/plain": [
       "                                                source  \\\n",
       "0                                           All Causes   \n",
       "1                                           All Causes   \n",
       "2                                           All Causes   \n",
       "5    Communicable, maternal, perinatal and nutritio...   \n",
       "7                    Infectious and parasitic diseases   \n",
       "..                                                 ...   \n",
       "162                             Unintentional injuries   \n",
       "163                             Unintentional injuries   \n",
       "164                                           Injuries   \n",
       "166                               Intentional injuries   \n",
       "167                               Intentional injuries   \n",
       "\n",
       "                                                target  value  \n",
       "0    Communicable, maternal, perinatal and nutritio...   34.0  \n",
       "1                             Noncommunicable diseases  223.7  \n",
       "2                                             Injuries   19.4  \n",
       "5                    Infectious and parasitic diseases   14.4  \n",
       "7                                         Tuberculosis    0.9  \n",
       "..                                                 ...    ...  \n",
       "162                                  Natural disasters    0.0  \n",
       "163                       Other unintentional injuries    6.6  \n",
       "164                               Intentional injuries    6.1  \n",
       "166                                          Self-harm    3.4  \n",
       "167                             Interpersonal violence    2.7  \n",
       "\n",
       "[141 rows x 3 columns]"
      ]
     },
     "execution_count": 4,
     "metadata": {},
     "output_type": "execute_result"
    }
   ],
   "source": [
    "table_output"
   ]
  },
  {
   "cell_type": "markdown",
   "id": "2cb63f65-86a0-40ee-8d5b-beb15ac3d989",
   "metadata": {
    "jp-MarkdownHeadingCollapsed": true,
    "tags": []
   },
   "source": [
    "#### sankey piu paesi"
   ]
  },
  {
   "cell_type": "code",
   "execution_count": 5,
   "id": "a6809ace-b1eb-4413-ac5d-c9183475f613",
   "metadata": {},
   "outputs": [],
   "source": [
    "table_output = []\n",
    "for country in countries:\n",
    "    link_list = []\n",
    "    start_row = 3\n",
    "    end_row = 205\n",
    "    start_col = 1\n",
    "    end_col = 3\n",
    "    table_output.append([country, 'All Causes', 'Communicable, maternal, perinatal and nutritional conditions', df.loc[3, country]])\n",
    "    table_output.append([country, 'All Causes', 'Noncommunicable diseases', df.loc[64, country]])\n",
    "    table_output.append([country, 'All Causes', 'Injuries', df.loc[192, country]])\n",
    "    for i in range(start_row,end_row):\n",
    "        for j in range(start_col,end_col):\n",
    "            elem = df.iloc[i,j];\n",
    "            right_elem = df.iloc[i,j+1];\n",
    "            num_cases = df.loc[i, country]\n",
    "            if num_cases==\".\" or num_cases==\"0\" or pd.isna(df.iloc[i,j+1]):\n",
    "                num_cases = \"0.0\"\n",
    "            tuple_ = (elem, right_elem)\n",
    "            if tuple_ not in link_list:\n",
    "                link_list.append(tuple_)\n",
    "                table_output.append([country, elem, right_elem, num_cases])\n",
    "\n",
    "table_output = pd.DataFrame(table_output, columns=[country, 'source', 'target', 'value'])\n",
    "table_output = table_output.dropna(how='any', axis=0)\n",
    "table_output.to_csv(\"global_sankey.csv\")"
   ]
  },
  {
   "cell_type": "markdown",
   "id": "6182bc50-60fc-4f10-8349-2898dd4a5751",
   "metadata": {
    "jp-MarkdownHeadingCollapsed": true,
    "tags": []
   },
   "source": [
    "#### Sankey senza injuries"
   ]
  },
  {
   "cell_type": "code",
   "execution_count": 6,
   "id": "7d1a1593-6f67-4362-bb0c-78b83d0d26b0",
   "metadata": {},
   "outputs": [],
   "source": [
    "table_output = []\n",
    "for country in countries:\n",
    "    link_list = []\n",
    "    start_row = 3\n",
    "    end_row = 191\n",
    "    start_col = 1\n",
    "    end_col = 3\n",
    "    table_output.append([country, 'All Causes', 'Communicable, maternal, perinatal and nutritional conditions', df.loc[3, country]])\n",
    "    table_output.append([country, 'All Causes', 'Noncommunicable diseases', df.loc[64, country]])\n",
    "    table_output.append([country, 'All Causes', 'Injuries', df.loc[192, country]])\n",
    "    for i in range(start_row,end_row):\n",
    "        for j in range(start_col,end_col):\n",
    "            elem = df.iloc[i,j];\n",
    "            right_elem = df.iloc[i,j+1];\n",
    "            num_cases = df.loc[i, country]\n",
    "            if num_cases==\".\" or num_cases==\"0\" or pd.isna(df.iloc[i,j+1]):\n",
    "                num_cases = \"0.0\"\n",
    "            tuple_ = (elem, right_elem)\n",
    "            if tuple_ not in link_list:\n",
    "                link_list.append(tuple_)\n",
    "                table_output.append([country, elem, right_elem, num_cases])\n",
    "\n",
    "table_output = pd.DataFrame(table_output, columns=[country, 'source', 'target', 'value'])\n",
    "table_output = table_output.dropna(how='any', axis=0)\n",
    "table_output.to_csv(\"sankey_no_injuries.csv\")"
   ]
  },
  {
   "cell_type": "markdown",
   "id": "ffd9c5bb-2825-4782-aae7-ef031248ee99",
   "metadata": {
    "jp-MarkdownHeadingCollapsed": true,
    "tags": []
   },
   "source": [
    "#### Sankey senza terza colonna"
   ]
  },
  {
   "cell_type": "code",
   "execution_count": 7,
   "id": "aa501c6d-d57c-4e9f-a02d-35e931eb4840",
   "metadata": {},
   "outputs": [],
   "source": [
    "table_output = []\n",
    "for country in countries:\n",
    "    link_list = []\n",
    "    start_row = 3\n",
    "    end_row = 205\n",
    "    start_col = 1\n",
    "    end_col = 2\n",
    "    table_output.append([country, 'All Causes', 'Communicable, maternal, perinatal and nutritional conditions', df.loc[3, country]])\n",
    "    table_output.append([country, 'All Causes', 'Noncommunicable diseases', df.loc[64, country]])\n",
    "    table_output.append([country, 'All Causes', 'Injuries', df.loc[192, country]])\n",
    "    for i in range(start_row,end_row):\n",
    "        for j in range(start_col,end_col):\n",
    "            elem = df.iloc[i,j];\n",
    "            right_elem = df.iloc[i,j+1];\n",
    "            num_cases = df.loc[i, country]\n",
    "            if num_cases==\".\" or num_cases==\"0\" or pd.isna(df.iloc[i,j+1]):\n",
    "                num_cases = \"0.0\"\n",
    "            tuple_ = (elem, right_elem)\n",
    "            if tuple_ not in link_list:\n",
    "                link_list.append(tuple_)\n",
    "                table_output.append([country, elem, right_elem, num_cases])\n",
    "\n",
    "table_output = pd.DataFrame(table_output, columns=[country, 'source', 'target', 'value'])\n",
    "table_output = table_output.dropna(how='any', axis=0)\n",
    "table_output.to_csv(\"sankey_no_3rdcolumn.csv\")"
   ]
  },
  {
   "cell_type": "markdown",
   "id": "ca74cbb5-e3fa-42d3-ab8c-8b62462d9728",
   "metadata": {
    "tags": []
   },
   "source": [
    "#### Sankey senza terza colonna e senza injuries"
   ]
  },
  {
   "cell_type": "code",
   "execution_count": 24,
   "id": "e5b43c40-fa65-4055-9b98-492400ff0a62",
   "metadata": {},
   "outputs": [],
   "source": [
    "def printInfo(table, country, col):\n",
    "    total = 0.\n",
    "    for row in table:\n",
    "        cur_country = row[0];\n",
    "        cur_node = row[1];\n",
    "        value = float(row[3]);\n",
    "        if cur_country == country and cur_node in col:\n",
    "            total = total + value;\n",
    "    print(f\"total of {col} node for country {country} is {total}\");\n",
    "    \n",
    "def getTotal(table, country, col):\n",
    "    total = 0.\n",
    "    num_conditions = 0\n",
    "    for row in table:\n",
    "        cur_country = row[0];\n",
    "        cur_node = row[1];\n",
    "        value = float(row[3]);\n",
    "        if cur_country == country and cur_node in col:\n",
    "            total = total + value;\n",
    "            num_conditions = num_conditions+1\n",
    "    return total, num_conditions\n",
    "\n",
    "desired_sum = 10\n",
    "def normalize_country_col(table, country, col):\n",
    "    current_sum, num_conditions = getTotal(table, country, col);\n",
    "    diff = desired_sum - current_sum\n",
    "    addition = diff / num_conditions\n",
    "    for row in table:\n",
    "        cur_country = row[0];\n",
    "        cur_node = row[1];\n",
    "        value = float(row[3]);\n",
    "        if cur_country == country and cur_node in col:\n",
    "            row[3] = str(value + addition)\n",
    "    return table"
   ]
  },
  {
   "cell_type": "code",
   "execution_count": 25,
   "id": "960b91f4-41f6-4fdf-a62a-3cff2c6df95e",
   "metadata": {},
   "outputs": [],
   "source": [
    "table_output = []\n",
    "for country in countries:\n",
    "    link_list = []\n",
    "    start_row = 3\n",
    "    end_row = 191\n",
    "    start_col = 1\n",
    "    end_col = 2\n",
    "    table_output.append([country, 'All Causes', 'Communicable, maternal, perinatal and nutritional conditions', df.loc[3, country]])\n",
    "    table_output.append([country, 'All Causes', 'Noncommunicable diseases', df.loc[64, country]])\n",
    "    for i in range(start_row,end_row):\n",
    "        for j in range(start_col,end_col):\n",
    "            elem = df.iloc[i,j];\n",
    "            right_elem = df.iloc[i,j+1];\n",
    "            num_cases = df.loc[i, country]\n",
    "            if num_cases==\".\" or num_cases==\"0\" or pd.isna(df.iloc[i,j+1]):\n",
    "                num_cases = \"0.0\"\n",
    "            tuple_ = (elem, right_elem)\n",
    "            if tuple_ not in link_list:\n",
    "                link_list.append(tuple_)\n",
    "                table_output.append([country, elem, right_elem, num_cases])"
   ]
  },
  {
   "cell_type": "code",
   "execution_count": 26,
   "id": "2c3235a9-d89f-4cf4-a8f3-2d2ad95f4cd8",
   "metadata": {},
   "outputs": [
    {
     "name": "stdout",
     "output_type": "stream",
     "text": [
      "total of ['Communicable, maternal, perinatal and nutritional conditions', 'Noncommunicable diseases'] node for country Argentina is 257.3\n"
     ]
    }
   ],
   "source": [
    "printInfo(table_output, \"Argentina\", cols_small[1])"
   ]
  },
  {
   "cell_type": "raw",
   "id": "3f981383-5527-4dea-b306-c02e5fad0492",
   "metadata": {},
   "source": [
    "normalize_country_col(table_output, \"Argentina\", cols_small[1])"
   ]
  },
  {
   "cell_type": "code",
   "execution_count": 27,
   "id": "820e3296-b26b-4515-876c-ba6c2f1edfe8",
   "metadata": {},
   "outputs": [
    {
     "name": "stdout",
     "output_type": "stream",
     "text": [
      "total of ['Communicable, maternal, perinatal and nutritional conditions', 'Noncommunicable diseases'] node for country Argentina is 257.3\n"
     ]
    }
   ],
   "source": [
    "printInfo(table_output, \"Argentina\", cols_small[1])"
   ]
  },
  {
   "cell_type": "code",
   "execution_count": 28,
   "id": "ba376b0b-dda6-4aee-95b2-9e00f5672ddf",
   "metadata": {},
   "outputs": [],
   "source": [
    "for country in countries:\n",
    "    normalize_country_col(table_output, country, cols_small[0])\n",
    "    normalize_country_col(table_output, country, cols_small[1])"
   ]
  },
  {
   "cell_type": "code",
   "execution_count": 29,
   "id": "6e176b3a-2904-4616-aa99-97f7ec16a6ee",
   "metadata": {},
   "outputs": [
    {
     "name": "stdout",
     "output_type": "stream",
     "text": [
      "total of ['All Causes'] node for country Italy is 10.0\n"
     ]
    }
   ],
   "source": [
    "printInfo(table_output, \"Italy\", cols_small[0])"
   ]
  },
  {
   "cell_type": "code",
   "execution_count": null,
   "id": "343003f5-784f-4532-b108-cb3e6ddc7ecc",
   "metadata": {},
   "outputs": [],
   "source": [
    "df = pd.DataFrame(table_output, columns=[country, 'source', 'target', 'value'])\n",
    "df['value'] = df['value'].astype(float)\n",
    "df = df[df['value'] >= desired_sum / 100]\n",
    "df = df.dropna(how='any', axis=0)\n",
    "df.to_csv(\"sankey_20_febbraio.csv\")"
   ]
  },
  {
   "cell_type": "code",
   "execution_count": null,
   "id": "fd44773d-6201-4db3-a6f0-10df4263eee8",
   "metadata": {},
   "outputs": [],
   "source": []
  }
 ],
 "metadata": {
  "kernelspec": {
   "display_name": "Python 3 (ipykernel)",
   "language": "python",
   "name": "python3"
  },
  "language_info": {
   "codemirror_mode": {
    "name": "ipython",
    "version": 3
   },
   "file_extension": ".py",
   "mimetype": "text/x-python",
   "name": "python",
   "nbconvert_exporter": "python",
   "pygments_lexer": "ipython3",
   "version": "3.9.12"
  }
 },
 "nbformat": 4,
 "nbformat_minor": 5
}
