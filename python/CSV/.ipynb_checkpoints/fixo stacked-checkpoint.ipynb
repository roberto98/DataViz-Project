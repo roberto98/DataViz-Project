{
 "cells": [
  {
   "cell_type": "code",
   "execution_count": 10,
   "id": "421bb183-a152-43b4-b96a-4cce266d1843",
   "metadata": {},
   "outputs": [],
   "source": [
    "import pandas as pd\n",
    "import numpy as np"
   ]
  },
  {
   "cell_type": "code",
   "execution_count": 14,
   "id": "30222c85-c108-4b97-9f4a-9321ee2288de",
   "metadata": {},
   "outputs": [],
   "source": [
    "df = pd.read_csv(\"stacked.csv\")\n",
    "for i in range(len(df)):\n",
    "    for j in range(len(df.columns)):\n",
    "        col = 4\n",
    "        cur_cel = df.iloc[i,j]\n",
    "        if(type(cur_cel)==str):\n",
    "            df.iloc[i,j] = cur_cel.replace(\"Â \", \"\")\n",
    "df.to_csv(\"stacked_fixed.csv\")"
   ]
  },
  {
   "cell_type": "code",
   "execution_count": null,
   "id": "2254bd30-ae50-4428-ac2e-440be7a8c5da",
   "metadata": {},
   "outputs": [],
   "source": []
  }
 ],
 "metadata": {
  "kernelspec": {
   "display_name": "Python 3 (ipykernel)",
   "language": "python",
   "name": "python3"
  },
  "language_info": {
   "codemirror_mode": {
    "name": "ipython",
    "version": 3
   },
   "file_extension": ".py",
   "mimetype": "text/x-python",
   "name": "python",
   "nbconvert_exporter": "python",
   "pygments_lexer": "ipython3",
   "version": "3.9.12"
  }
 },
 "nbformat": 4,
 "nbformat_minor": 5
}
