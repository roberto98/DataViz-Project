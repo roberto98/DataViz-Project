{
 "cells": [
  {
   "cell_type": "markdown",
   "id": "e047b004-6a97-4631-9ae1-97ed55d18c2a",
   "metadata": {},
   "source": [
    "# Import"
   ]
  },
  {
   "cell_type": "code",
   "execution_count": 1,
   "id": "7b7d8403-5e30-4140-b8bc-0d6bb5838674",
   "metadata": {},
   "outputs": [],
   "source": [
    "# import libraries\n",
    "import pandas as pd\n",
    "import numpy as np"
   ]
  },
  {
   "cell_type": "markdown",
   "id": "14a07bac-2974-4232-b15a-4b6a10088c16",
   "metadata": {
    "jp-MarkdownHeadingCollapsed": true,
    "tags": []
   },
   "source": [
    "## GHO"
   ]
  },
  {
   "cell_type": "code",
   "execution_count": 2,
   "id": "71552f59-2325-455f-9c17-d21285af2b9d",
   "metadata": {},
   "outputs": [
    {
     "data": {
      "text/html": [
       "<div>\n",
       "<style scoped>\n",
       "    .dataframe tbody tr th:only-of-type {\n",
       "        vertical-align: middle;\n",
       "    }\n",
       "\n",
       "    .dataframe tbody tr th {\n",
       "        vertical-align: top;\n",
       "    }\n",
       "\n",
       "    .dataframe thead th {\n",
       "        text-align: right;\n",
       "    }\n",
       "</style>\n",
       "<table border=\"1\" class=\"dataframe\">\n",
       "  <thead>\n",
       "    <tr style=\"text-align: right;\">\n",
       "      <th></th>\n",
       "      <th>CountryID</th>\n",
       "      <th>Country</th>\n",
       "      <th>Year</th>\n",
       "      <th>Sex</th>\n",
       "      <th>SexID</th>\n",
       "      <th>Range</th>\n",
       "      <th>RangeID</th>\n",
       "      <th>Deaths</th>\n",
       "    </tr>\n",
       "  </thead>\n",
       "  <tbody>\n",
       "    <tr>\n",
       "      <th>0</th>\n",
       "      <td>AFR</td>\n",
       "      <td>Chad</td>\n",
       "      <td>2019</td>\n",
       "      <td>Male</td>\n",
       "      <td>MLE</td>\n",
       "      <td>65-69 years</td>\n",
       "      <td>AGE65-69</td>\n",
       "      <td>10 000</td>\n",
       "    </tr>\n",
       "    <tr>\n",
       "      <th>1</th>\n",
       "      <td>AFR</td>\n",
       "      <td>Ethiopia</td>\n",
       "      <td>2019</td>\n",
       "      <td>Male</td>\n",
       "      <td>MLE</td>\n",
       "      <td>65-69 years</td>\n",
       "      <td>AGE65-69</td>\n",
       "      <td>10 003</td>\n",
       "    </tr>\n",
       "    <tr>\n",
       "      <th>2</th>\n",
       "      <td>EUR</td>\n",
       "      <td>Kyrgyzstan</td>\n",
       "      <td>2019</td>\n",
       "      <td>Female</td>\n",
       "      <td>FMLE</td>\n",
       "      <td>70-74 years</td>\n",
       "      <td>AGE70-74</td>\n",
       "      <td>10 007</td>\n",
       "    </tr>\n",
       "    <tr>\n",
       "      <th>3</th>\n",
       "      <td>AFR</td>\n",
       "      <td>Democratic Republic of the Congo</td>\n",
       "      <td>2019</td>\n",
       "      <td>Both sexes</td>\n",
       "      <td>BTSX</td>\n",
       "      <td>65-69 years</td>\n",
       "      <td>AGE65-69</td>\n",
       "      <td>10 008</td>\n",
       "    </tr>\n",
       "    <tr>\n",
       "      <th>4</th>\n",
       "      <td>EMR</td>\n",
       "      <td>Syrian Arab Republic</td>\n",
       "      <td>2019</td>\n",
       "      <td>Male</td>\n",
       "      <td>MLE</td>\n",
       "      <td>65-69 years</td>\n",
       "      <td>AGE65-69</td>\n",
       "      <td>10 008</td>\n",
       "    </tr>\n",
       "  </tbody>\n",
       "</table>\n",
       "</div>"
      ],
      "text/plain": [
       "  CountryID                           Country  Year         Sex SexID  \\\n",
       "0       AFR                              Chad  2019        Male   MLE   \n",
       "1       AFR                          Ethiopia  2019        Male   MLE   \n",
       "2       EUR                        Kyrgyzstan  2019      Female  FMLE   \n",
       "3       AFR  Democratic Republic of the Congo  2019  Both sexes  BTSX   \n",
       "4       EMR              Syrian Arab Republic  2019        Male   MLE   \n",
       "\n",
       "         Range   RangeID  Deaths  \n",
       "0  65-69 years  AGE65-69  10 000  \n",
       "1  65-69 years  AGE65-69  10 003  \n",
       "2  70-74 years  AGE70-74  10 007  \n",
       "3  65-69 years  AGE65-69  10 008  \n",
       "4  65-69 years  AGE65-69  10 008  "
      ]
     },
     "execution_count": 2,
     "metadata": {},
     "output_type": "execute_result"
    }
   ],
   "source": [
    "# import datasets\n",
    "ageRange_df = pd.read_csv('data/who_people_dying_between_ages.csv')\n",
    "\n",
    "ageRange_df.drop(['IndicatorCode', 'Indicator', 'ValueType',\n",
    "       'ParentLocation', 'Location type', 'SpatialDimValueCode','Period type', 'IsLatestYear', 'Dim1 type', 'Dim2 type',\n",
    "        'Dim3 type',\n",
    "       'Dim3', 'Dim3ValueCode', 'DataSourceDimValueCode', 'DataSource',\n",
    "       'FactValueNumericPrefix', 'FactValueNumeric', 'FactValueUoM',\n",
    "       'FactValueNumericLowPrefix', 'FactValueNumericLow',\n",
    "       'FactValueNumericHighPrefix', 'FactValueNumericHigh',\n",
    "       'FactValueTranslationID', 'FactComments', 'Language', 'DateModified'], axis=1, inplace=True)\n",
    "\n",
    "ageRange_df.rename(columns = {'ParentLocationCode':'CountryID',\n",
    "                              'Location': 'Country',\n",
    "                              'Period': 'Year',\n",
    "                              'Dim1': 'Sex',\n",
    "                              'Dim1ValueCode': 'SexID',\n",
    "                              'Dim2': 'Range',\n",
    "                              'Dim2ValueCode': 'RangeID',\n",
    "                              'Value':'Deaths'}, inplace = True)\n",
    "\n",
    "ageRange_df.head()"
   ]
  },
  {
   "cell_type": "markdown",
   "id": "a0d88847-f616-4aac-ae77-03b86e20738f",
   "metadata": {
    "tags": []
   },
   "source": [
    "## Kaggle"
   ]
  },
  {
   "cell_type": "code",
   "execution_count": 3,
   "id": "a8c86b88-e0c1-4257-be14-c18184631fc3",
   "metadata": {},
   "outputs": [],
   "source": [
    "kaggle_df = pd.read_csv('data/kaggle_dataset.csv')\n",
    "\n",
    "kaggle_df.drop(['Alcohol', 'Hepatitis B', 'Measles ', 'Polio', 'Diphtheria ', ' HIV/AIDS', ' thinness  1-19 years', ' thinness 5-9 years',\n",
    "       'Income composition of resources'], axis=1, inplace=True)\n"
   ]
  },
  {
   "cell_type": "code",
   "execution_count": 4,
   "id": "a7aa9183-fe11-46ba-9bf6-16495da36306",
   "metadata": {},
   "outputs": [],
   "source": [
    "# Replacing the Null Values with mean values of the data\n",
    "from sklearn.impute import SimpleImputer\n",
    "imputer=SimpleImputer(missing_values=np.nan,strategy='mean',fill_value=None)\n",
    "kaggle_df['Life expectancy ']=imputer.fit_transform(kaggle_df[['Life expectancy ']])\n",
    "kaggle_df['Adult Mortality']=imputer.fit_transform(kaggle_df[['Adult Mortality']])\n",
    "kaggle_df[' BMI ']=imputer.fit_transform(kaggle_df[[' BMI ']])\n",
    "kaggle_df['Total expenditure']=imputer.fit_transform(kaggle_df[['Total expenditure']])\n",
    "kaggle_df['GDP']=imputer.fit_transform(kaggle_df[['GDP']])\n",
    "kaggle_df['Population']=imputer.fit_transform(kaggle_df[['Population']])\n",
    "kaggle_df['Schooling']=imputer.fit_transform(kaggle_df[['Schooling']])\n",
    "\n",
    "#kaggle_df.isnull().sum()"
   ]
  },
  {
   "cell_type": "code",
   "execution_count": 5,
   "id": "4b71563b-0b98-4d91-b6e3-543eed7b1fec",
   "metadata": {},
   "outputs": [
    {
     "data": {
      "text/html": [
       "<div>\n",
       "<style scoped>\n",
       "    .dataframe tbody tr th:only-of-type {\n",
       "        vertical-align: middle;\n",
       "    }\n",
       "\n",
       "    .dataframe tbody tr th {\n",
       "        vertical-align: top;\n",
       "    }\n",
       "\n",
       "    .dataframe thead th {\n",
       "        text-align: right;\n",
       "    }\n",
       "</style>\n",
       "<table border=\"1\" class=\"dataframe\">\n",
       "  <thead>\n",
       "    <tr style=\"text-align: right;\">\n",
       "      <th></th>\n",
       "      <th>Country</th>\n",
       "      <th>Year</th>\n",
       "      <th>Status</th>\n",
       "      <th>LifeExpectancy</th>\n",
       "      <th>AdultMortality</th>\n",
       "      <th>InfantDeaths</th>\n",
       "      <th>%Expenditure</th>\n",
       "      <th>BMI</th>\n",
       "      <th>Deaths&lt;5</th>\n",
       "      <th>TotalExpenditure</th>\n",
       "      <th>GDP</th>\n",
       "      <th>Population</th>\n",
       "      <th>Schooling</th>\n",
       "    </tr>\n",
       "  </thead>\n",
       "  <tbody>\n",
       "    <tr>\n",
       "      <th>0</th>\n",
       "      <td>Afghanistan</td>\n",
       "      <td>2015</td>\n",
       "      <td>Developing</td>\n",
       "      <td>65.0</td>\n",
       "      <td>263.0</td>\n",
       "      <td>62</td>\n",
       "      <td>71.279624</td>\n",
       "      <td>19.1</td>\n",
       "      <td>83</td>\n",
       "      <td>8.16</td>\n",
       "      <td>584.259210</td>\n",
       "      <td>33736494.0</td>\n",
       "      <td>10.1</td>\n",
       "    </tr>\n",
       "    <tr>\n",
       "      <th>1</th>\n",
       "      <td>Afghanistan</td>\n",
       "      <td>2014</td>\n",
       "      <td>Developing</td>\n",
       "      <td>59.9</td>\n",
       "      <td>271.0</td>\n",
       "      <td>64</td>\n",
       "      <td>73.523582</td>\n",
       "      <td>18.6</td>\n",
       "      <td>86</td>\n",
       "      <td>8.18</td>\n",
       "      <td>612.696514</td>\n",
       "      <td>327582.0</td>\n",
       "      <td>10.0</td>\n",
       "    </tr>\n",
       "    <tr>\n",
       "      <th>2</th>\n",
       "      <td>Afghanistan</td>\n",
       "      <td>2013</td>\n",
       "      <td>Developing</td>\n",
       "      <td>59.9</td>\n",
       "      <td>268.0</td>\n",
       "      <td>66</td>\n",
       "      <td>73.219243</td>\n",
       "      <td>18.1</td>\n",
       "      <td>89</td>\n",
       "      <td>8.13</td>\n",
       "      <td>631.744976</td>\n",
       "      <td>31731688.0</td>\n",
       "      <td>9.9</td>\n",
       "    </tr>\n",
       "    <tr>\n",
       "      <th>3</th>\n",
       "      <td>Afghanistan</td>\n",
       "      <td>2012</td>\n",
       "      <td>Developing</td>\n",
       "      <td>59.5</td>\n",
       "      <td>272.0</td>\n",
       "      <td>69</td>\n",
       "      <td>78.184215</td>\n",
       "      <td>17.6</td>\n",
       "      <td>93</td>\n",
       "      <td>8.52</td>\n",
       "      <td>669.959000</td>\n",
       "      <td>3696958.0</td>\n",
       "      <td>9.8</td>\n",
       "    </tr>\n",
       "    <tr>\n",
       "      <th>4</th>\n",
       "      <td>Afghanistan</td>\n",
       "      <td>2011</td>\n",
       "      <td>Developing</td>\n",
       "      <td>59.2</td>\n",
       "      <td>275.0</td>\n",
       "      <td>71</td>\n",
       "      <td>7.097109</td>\n",
       "      <td>17.2</td>\n",
       "      <td>97</td>\n",
       "      <td>7.87</td>\n",
       "      <td>63.537231</td>\n",
       "      <td>2978599.0</td>\n",
       "      <td>9.5</td>\n",
       "    </tr>\n",
       "  </tbody>\n",
       "</table>\n",
       "</div>"
      ],
      "text/plain": [
       "       Country  Year      Status  LifeExpectancy  AdultMortality  \\\n",
       "0  Afghanistan  2015  Developing            65.0           263.0   \n",
       "1  Afghanistan  2014  Developing            59.9           271.0   \n",
       "2  Afghanistan  2013  Developing            59.9           268.0   \n",
       "3  Afghanistan  2012  Developing            59.5           272.0   \n",
       "4  Afghanistan  2011  Developing            59.2           275.0   \n",
       "\n",
       "   InfantDeaths  %Expenditure   BMI   Deaths<5  TotalExpenditure         GDP  \\\n",
       "0            62     71.279624   19.1        83              8.16  584.259210   \n",
       "1            64     73.523582   18.6        86              8.18  612.696514   \n",
       "2            66     73.219243   18.1        89              8.13  631.744976   \n",
       "3            69     78.184215   17.6        93              8.52  669.959000   \n",
       "4            71      7.097109   17.2        97              7.87   63.537231   \n",
       "\n",
       "   Population  Schooling  \n",
       "0  33736494.0       10.1  \n",
       "1    327582.0       10.0  \n",
       "2  31731688.0        9.9  \n",
       "3   3696958.0        9.8  \n",
       "4   2978599.0        9.5  "
      ]
     },
     "execution_count": 5,
     "metadata": {},
     "output_type": "execute_result"
    }
   ],
   "source": [
    "kaggle_df.rename(columns = {'Life expectancy ':'LifeExpectancy',\n",
    "                            'Adult Mortality':'AdultMortality',\n",
    "                            'infant deaths':'InfantDeaths',\n",
    "                            'percentage expenditure':'%Expenditure',\n",
    "                            'under-five deaths ':'Deaths<5',\n",
    "                            'Total expenditure':'TotalExpenditure'\n",
    "                            }, inplace = True)\n",
    "kaggle_df.head()"
   ]
  },
  {
   "cell_type": "markdown",
   "id": "6e85442a-120e-498d-9aa7-d28be04e654a",
   "metadata": {},
   "source": [
    "### Diseases"
   ]
  },
  {
   "cell_type": "code",
   "execution_count": 6,
   "id": "621385c7-48fb-4260-8396-847cb9e8dc1f",
   "metadata": {},
   "outputs": [],
   "source": [
    "diseases2000_df = pd.read_csv('data/2000.csv')\n",
    "diseases2000_df.dropna(axis=1, thresh = 100, inplace = True)\n",
    "diseases2000_df.drop(['?'], axis=1, inplace=True)\n",
    "#diseases2000_df.head()\n",
    "\n",
    "diseases2010_df = pd.read_csv('data/2010.csv')\n",
    "diseases2010_df.dropna(axis=1, thresh = 100, inplace = True)\n",
    "diseases2010_df.drop(['?'], axis=1, inplace=True)\n",
    "#diseases2010_df.head()\n",
    "\n",
    "diseases2015_df = pd.read_csv('data/2015.csv')\n",
    "diseases2015_df.dropna(axis=1, thresh = 100, inplace = True)\n",
    "diseases2015_df.drop(['?'], axis=1, inplace=True)\n",
    "#diseases2015_df.head()\n"
   ]
  },
  {
   "cell_type": "code",
   "execution_count": 7,
   "id": "5a985c38-239a-432b-91ca-3f8397069664",
   "metadata": {},
   "outputs": [],
   "source": [
    "#specifi2_values = diseases2015_df['specific1'].tolist()\n",
    "#mylist = list(dict.fromkeys(specifi2_values))\n",
    "#print(mylist)"
   ]
  },
  {
   "cell_type": "markdown",
   "id": "41015962-b09e-44c4-ac99-308a2b701acd",
   "metadata": {
    "tags": []
   },
   "source": [
    "# MORTALITY"
   ]
  },
  {
   "cell_type": "markdown",
   "id": "8683d64f-6414-488b-a84a-e3d63cacb123",
   "metadata": {
    "tags": []
   },
   "source": [
    "## Time-line chart\n",
    "- country\n",
    "- year\n",
    "- life expectancy \n",
    "- infant mortality\n",
    "- adult mortality\n",
    "- under-five mortality over the years.\n",
    "\n",
    "Asse x--> year\n",
    "Asse y --> lifeExpectancy/Death('InfantDeaths', 'AdultMortality', 'Deaths<5' tutti e tre insieme)\n",
    "ci saranno due dropdow: uno cambia asse y e uno il paese"
   ]
  },
  {
   "cell_type": "code",
   "execution_count": 10,
   "id": "868064f3-d96b-4b34-bcc6-13eea02e414d",
   "metadata": {},
   "outputs": [
    {
     "data": {
      "text/html": [
       "<div>\n",
       "<style scoped>\n",
       "    .dataframe tbody tr th:only-of-type {\n",
       "        vertical-align: middle;\n",
       "    }\n",
       "\n",
       "    .dataframe tbody tr th {\n",
       "        vertical-align: top;\n",
       "    }\n",
       "\n",
       "    .dataframe thead th {\n",
       "        text-align: right;\n",
       "    }\n",
       "</style>\n",
       "<table border=\"1\" class=\"dataframe\">\n",
       "  <thead>\n",
       "    <tr style=\"text-align: right;\">\n",
       "      <th></th>\n",
       "      <th>Country</th>\n",
       "      <th>Year</th>\n",
       "      <th>LifeExpectancy</th>\n",
       "      <th>InfantDeaths</th>\n",
       "      <th>AdultMortality</th>\n",
       "      <th>Deaths&lt;5</th>\n",
       "    </tr>\n",
       "  </thead>\n",
       "  <tbody>\n",
       "    <tr>\n",
       "      <th>0</th>\n",
       "      <td>Afghanistan</td>\n",
       "      <td>2015</td>\n",
       "      <td>65.0</td>\n",
       "      <td>62</td>\n",
       "      <td>263.0</td>\n",
       "      <td>83</td>\n",
       "    </tr>\n",
       "    <tr>\n",
       "      <th>1</th>\n",
       "      <td>Afghanistan</td>\n",
       "      <td>2014</td>\n",
       "      <td>59.9</td>\n",
       "      <td>64</td>\n",
       "      <td>271.0</td>\n",
       "      <td>86</td>\n",
       "    </tr>\n",
       "    <tr>\n",
       "      <th>2</th>\n",
       "      <td>Afghanistan</td>\n",
       "      <td>2013</td>\n",
       "      <td>59.9</td>\n",
       "      <td>66</td>\n",
       "      <td>268.0</td>\n",
       "      <td>89</td>\n",
       "    </tr>\n",
       "    <tr>\n",
       "      <th>3</th>\n",
       "      <td>Afghanistan</td>\n",
       "      <td>2012</td>\n",
       "      <td>59.5</td>\n",
       "      <td>69</td>\n",
       "      <td>272.0</td>\n",
       "      <td>93</td>\n",
       "    </tr>\n",
       "    <tr>\n",
       "      <th>4</th>\n",
       "      <td>Afghanistan</td>\n",
       "      <td>2011</td>\n",
       "      <td>59.2</td>\n",
       "      <td>71</td>\n",
       "      <td>275.0</td>\n",
       "      <td>97</td>\n",
       "    </tr>\n",
       "  </tbody>\n",
       "</table>\n",
       "</div>"
      ],
      "text/plain": [
       "       Country  Year  LifeExpectancy  InfantDeaths  AdultMortality  Deaths<5\n",
       "0  Afghanistan  2015            65.0            62           263.0        83\n",
       "1  Afghanistan  2014            59.9            64           271.0        86\n",
       "2  Afghanistan  2013            59.9            66           268.0        89\n",
       "3  Afghanistan  2012            59.5            69           272.0        93\n",
       "4  Afghanistan  2011            59.2            71           275.0        97"
      ]
     },
     "execution_count": 10,
     "metadata": {},
     "output_type": "execute_result"
    }
   ],
   "source": [
    "cols = ['Country', 'Year', 'LifeExpectancy', 'InfantDeaths', 'AdultMortality', 'Deaths<5']\n",
    "time_line = kaggle_df[cols]\n",
    "time_line.head()"
   ]
  },
  {
   "cell_type": "markdown",
   "id": "8a31f5c7-335d-4d47-8c53-1e72d0e90fb4",
   "metadata": {},
   "source": [
    "## Stacked bar chart\n",
    "- CountryID\n",
    "- Country (top 10)\n",
    "- Year\n",
    "- Sex\n",
    "- SexID\n",
    "- Range\n",
    "- RangeID\n",
    "- Deaths\n",
    "- prendere population da kaggle"
   ]
  },
  {
   "cell_type": "markdown",
   "id": "f0a6e12a-81ca-44a1-bed5-4d9893ebe0ba",
   "metadata": {},
   "source": [
    "## Histogram\n",
    "- Country\n",
    "- count life expectancy\n",
    "- year"
   ]
  },
  {
   "cell_type": "markdown",
   "id": "9ca3cb37-30e1-4e10-b7ee-1d34960ba741",
   "metadata": {},
   "source": [
    "## Heatmap\n",
    "tutte di kaggle\n",
    "utilizzare df.corr() per ottenere la correlazione"
   ]
  },
  {
   "cell_type": "markdown",
   "id": "14b2db45-623d-457a-a3f2-ed3931cae72f",
   "metadata": {},
   "source": [
    "# DISEASES"
   ]
  },
  {
   "cell_type": "code",
   "execution_count": null,
   "id": "d7e7f435-a1a4-4f8e-bc62-d508d96cd138",
   "metadata": {},
   "outputs": [],
   "source": []
  },
  {
   "cell_type": "markdown",
   "id": "fe4c24bb-98d1-4643-9e9a-7010f568574f",
   "metadata": {},
   "source": [
    "## Horizontal bar chart\n",
    "- country \n",
    "- year\n",
    "- 'Infectious and parasitic diseases', 'Nutrional deficiences', 'Maligment neoplasms', 'Mental and substance use disorders', 'Neurological conditions', 'Cardiovascular diseases', 'Respiratory diseases', 'Digestive diseases', 'Skin diseases', 'Unintentional injuries', 'Intentional injuries''\n",
    "\n",
    "## Scatter plot\n",
    "- country (top 10 country by number of death for the specific diseas)\n",
    "- year (2000.csv)\n",
    "- life expectancy\n",
    "- 'Infectious and parasitic diseases', 'Nutrional deficiences', 'Maligment neoplasms', 'Mental and substance use disorders', 'Neurological conditions', 'Cardiovascular diseases', 'Respiratory diseases', 'Digestive diseases', 'Skin diseases', 'Unintentional injuries', 'Intentional injuries''"
   ]
  },
  {
   "cell_type": "markdown",
   "id": "73189755-6bfb-4997-a59b-ce478fb817b1",
   "metadata": {},
   "source": [
    "## Sankey\n",
    "\n",
    "- deaths\n",
    "- country\n",
    "- year\n",
    "- communicable\n",
    "- uncommunicable\n",
    "-  'Infectious and parasitic diseases', 'Nutrional deficiences', 'Maligment neoplasms', 'Mental and substance use disorders', 'Neurological conditions', 'Cardiovascular diseases', 'Respiratory diseases', 'Digestive diseases', 'Skin diseases', 'Unintentional injuries', 'Intentional injuries''"
   ]
  },
  {
   "cell_type": "markdown",
   "id": "cd3cd8b6-09d6-42a9-bb9e-331de0c7afc0",
   "metadata": {},
   "source": [
    "# ECONOMIC"
   ]
  },
  {
   "cell_type": "markdown",
   "id": "dadf42d2-bb8c-4b8b-810f-275145ffff70",
   "metadata": {},
   "source": [
    "## Violin chart\n",
    "- country\n",
    "- year\n",
    "- status\n",
    "- life expectancy"
   ]
  },
  {
   "cell_type": "markdown",
   "id": "aeda621e-f7ed-4175-b084-61512b66aa92",
   "metadata": {},
   "source": [
    "## Scatter plot\n",
    "- TotalExpenditure\n",
    "- GDP\n",
    "- %Expenditure\n",
    "- country"
   ]
  },
  {
   "cell_type": "markdown",
   "id": "406bc775-5d34-4369-bd46-a4ba33bcd379",
   "metadata": {},
   "source": [
    "## Choroplet map\n",
    "- country\n",
    "- TotalExpenditure\n",
    "- GDP\n",
    "- %Expenditure\n",
    "- country\n",
    "- year"
   ]
  },
  {
   "cell_type": "code",
   "execution_count": null,
   "id": "06d79216-3a68-4990-8f5c-2bc4111927da",
   "metadata": {},
   "outputs": [],
   "source": []
  },
  {
   "cell_type": "code",
   "execution_count": null,
   "id": "4c54b595-b68f-49dc-9315-f69ad4e01a29",
   "metadata": {},
   "outputs": [],
   "source": []
  }
 ],
 "metadata": {
  "kernelspec": {
   "display_name": "Python 3 (ipykernel)",
   "language": "python",
   "name": "python3"
  },
  "language_info": {
   "codemirror_mode": {
    "name": "ipython",
    "version": 3
   },
   "file_extension": ".py",
   "mimetype": "text/x-python",
   "name": "python",
   "nbconvert_exporter": "python",
   "pygments_lexer": "ipython3",
   "version": "3.9.7"
  }
 },
 "nbformat": 4,
 "nbformat_minor": 5
}
