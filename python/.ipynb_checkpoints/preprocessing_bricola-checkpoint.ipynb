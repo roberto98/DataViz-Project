{
 "cells": [
  {
   "cell_type": "code",
   "execution_count": null,
   "id": "191de0d3-d000-46b4-891a-aa5336e84bc1",
   "metadata": {},
   "outputs": [],
   "source": [
    "import pandas as pd"
   ]
  },
  {
   "cell_type": "code",
   "execution_count": null,
   "id": "bca79ed0-a5c3-43db-994d-5d4dcfef03f3",
   "metadata": {},
   "outputs": [],
   "source": [
    "import pandas as pd\n",
    "source_file = \"data/2000.csv\";\n",
    "dest_file = \"sankey.json\";\n",
    "!echo {\"nodes\": [ > data/sankey.json\n",
    "df = pd.read_csv(source_file);"
   ]
  },
  {
   "cell_type": "code",
   "execution_count": null,
   "id": "12a6116c-57c1-417c-8c7a-e9ddca3c16e9",
   "metadata": {},
   "outputs": [],
   "source": [
    "def add_node_to_graph(curr_id, node_name, last=False):\n",
    "    append_me = \"{ \\\"node\\\": \"+str(curr_id)\n",
    "    append_me = append_me+\", \\\"name\\\": \"+str(node_name)+\"}\"\n",
    "    if not last: append_me = append_me + \",\"\n",
    "    with open(dest_file, 'a') as file:\n",
    "        file.write(\"\\n\"+append_me+\"\\n\")\n",
    "        \n",
    "def add_link_to_graph(source, target, value):\n",
    "    ####"
   ]
  },
  {
   "cell_type": "code",
   "execution_count": null,
   "id": "034d3058-d2dc-4e92-b446-6a2adbbca656",
   "metadata": {},
   "outputs": [],
   "source": [
    "condition_list = []\n",
    "start_row = 3\n",
    "end_row = 205\n",
    "start_col = 1\n",
    "end_col = 4\n",
    "for i in range(start_row,end_row):\n",
    "    for j in range(start_col,end_col):\n",
    "        elem = df.iloc[i,j]\n",
    "        if elem not in condition_list:\n",
    "            condition_list.append(elem);\n",
    "for i, condition in enumerate(condition_list):\n",
    "    add_node_to_graph(i, condition);\n",
    "!echo ], \"links\": [ >> data/sankey.json"
   ]
  },
  {
   "cell_type": "code",
   "execution_count": null,
   "id": "2d638a9a-cf75-4c9a-a814-c54671dc4bc1",
   "metadata": {},
   "outputs": [],
   "source": [
    "!echo ]} >> data/sankey.json"
   ]
  }
 ],
 "metadata": {
  "kernelspec": {
   "display_name": "Python 3 (ipykernel)",
   "language": "python",
   "name": "python3"
  },
  "language_info": {
   "codemirror_mode": {
    "name": "ipython",
    "version": 3
   },
   "file_extension": ".py",
   "mimetype": "text/x-python",
   "name": "python",
   "nbconvert_exporter": "python",
   "pygments_lexer": "ipython3",
   "version": "3.9.12"
  }
 },
 "nbformat": 4,
 "nbformat_minor": 5
}
