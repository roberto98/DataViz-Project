{
 "cells": [
  {
   "cell_type": "markdown",
   "id": "e047b004-6a97-4631-9ae1-97ed55d18c2a",
   "metadata": {},
   "source": [
    "# Import"
   ]
  },
  {
   "cell_type": "code",
   "execution_count": 1,
   "id": "7b7d8403-5e30-4140-b8bc-0d6bb5838674",
   "metadata": {},
   "outputs": [],
   "source": [
    "# import libraries"
   ]
  },
  {
   "cell_type": "code",
   "execution_count": 2,
   "id": "ceff147f-7c39-49bc-8661-881102540acd",
   "metadata": {},
   "outputs": [],
   "source": [
    "# import datasets"
   ]
  },
  {
   "cell_type": "markdown",
   "id": "41015962-b09e-44c4-ac99-308a2b701acd",
   "metadata": {
    "tags": []
   },
   "source": [
    "# MORTALITY"
   ]
  },
  {
   "cell_type": "markdown",
   "id": "8683d64f-6414-488b-a84a-e3d63cacb123",
   "metadata": {
    "tags": []
   },
   "source": [
    "## Time-line chart"
   ]
  },
  {
   "cell_type": "markdown",
   "id": "8a31f5c7-335d-4d47-8c53-1e72d0e90fb4",
   "metadata": {},
   "source": [
    "## Stacked bar chart"
   ]
  },
  {
   "cell_type": "markdown",
   "id": "f0a6e12a-81ca-44a1-bed5-4d9893ebe0ba",
   "metadata": {},
   "source": [
    "## Histogram"
   ]
  },
  {
   "cell_type": "markdown",
   "id": "9ca3cb37-30e1-4e10-b7ee-1d34960ba741",
   "metadata": {},
   "source": [
    "## Heatmap"
   ]
  },
  {
   "cell_type": "markdown",
   "id": "14b2db45-623d-457a-a3f2-ed3931cae72f",
   "metadata": {},
   "source": [
    "# DISEASES"
   ]
  },
  {
   "cell_type": "markdown",
   "id": "a46ee54a-cffb-4bdb-9a9e-035e16510e65",
   "metadata": {},
   "source": [
    "## Horizontal bar chart"
   ]
  },
  {
   "cell_type": "markdown",
   "id": "c37a5e34-19ac-49b0-b1f0-84b799d3edac",
   "metadata": {},
   "source": [
    "## Scatter plot"
   ]
  },
  {
   "cell_type": "markdown",
   "id": "73189755-6bfb-4997-a59b-ce478fb817b1",
   "metadata": {},
   "source": [
    "## Sankey"
   ]
  },
  {
   "cell_type": "markdown",
   "id": "cd3cd8b6-09d6-42a9-bb9e-331de0c7afc0",
   "metadata": {},
   "source": [
    "# ECONOMIC"
   ]
  },
  {
   "cell_type": "markdown",
   "id": "dadf42d2-bb8c-4b8b-810f-275145ffff70",
   "metadata": {},
   "source": [
    "## Violin chart"
   ]
  },
  {
   "cell_type": "markdown",
   "id": "aeda621e-f7ed-4175-b084-61512b66aa92",
   "metadata": {},
   "source": [
    "## Scatter plot"
   ]
  },
  {
   "cell_type": "markdown",
   "id": "406bc775-5d34-4369-bd46-a4ba33bcd379",
   "metadata": {},
   "source": [
    "## Choroplet map"
   ]
  },
  {
   "cell_type": "code",
   "execution_count": null,
   "id": "06d79216-3a68-4990-8f5c-2bc4111927da",
   "metadata": {},
   "outputs": [],
   "source": []
  },
  {
   "cell_type": "code",
   "execution_count": null,
   "id": "4c54b595-b68f-49dc-9315-f69ad4e01a29",
   "metadata": {},
   "outputs": [],
   "source": []
  }
 ],
 "metadata": {
  "kernelspec": {
   "display_name": "Python 3 (ipykernel)",
   "language": "python",
   "name": "python3"
  },
  "language_info": {
   "codemirror_mode": {
    "name": "ipython",
    "version": 3
   },
   "file_extension": ".py",
   "mimetype": "text/x-python",
   "name": "python",
   "nbconvert_exporter": "python",
   "pygments_lexer": "ipython3",
   "version": "3.9.12"
  }
 },
 "nbformat": 4,
 "nbformat_minor": 5
}
