{
 "cells": [
  {
   "cell_type": "markdown",
   "id": "e047b004-6a97-4631-9ae1-97ed55d18c2a",
   "metadata": {
    "tags": []
   },
   "source": [
    "# Import"
   ]
  },
  {
   "cell_type": "code",
   "execution_count": 46,
   "id": "7b7d8403-5e30-4140-b8bc-0d6bb5838674",
   "metadata": {},
   "outputs": [],
   "source": [
    "# import libraries\n",
    "import pandas as pd\n",
    "import numpy as np"
   ]
  },
  {
   "cell_type": "code",
   "execution_count": 47,
   "id": "abe98cef-3125-46c5-bcc2-a3fb9b43450e",
   "metadata": {},
   "outputs": [],
   "source": [
    "pd.options.display.max_columns = None\n",
    "pd.options.display.max_rows = None"
   ]
  },
  {
   "cell_type": "markdown",
   "id": "14a07bac-2974-4232-b15a-4b6a10088c16",
   "metadata": {
    "tags": []
   },
   "source": [
    "## GHO"
   ]
  },
  {
   "cell_type": "code",
   "execution_count": 50,
   "id": "71552f59-2325-455f-9c17-d21285af2b9d",
   "metadata": {},
   "outputs": [],
   "source": [
    "# import datasets\n",
    "ageRange_df = pd.read_csv('data/who_people_dying_between_ages.csv')\n",
    "\n",
    "ageRange_df.drop(['IndicatorCode', 'Indicator', 'ValueType',\n",
    "       'ParentLocation', 'Location type', 'SpatialDimValueCode','Period type', 'IsLatestYear', 'Dim1 type', 'Dim2 type',\n",
    "        'Dim3 type',\n",
    "       'Dim3', 'Dim3ValueCode', 'DataSourceDimValueCode', 'DataSource',\n",
    "       'FactValueNumericPrefix', 'FactValueNumeric', 'FactValueUoM',\n",
    "       'FactValueNumericLowPrefix', 'FactValueNumericLow',\n",
    "       'FactValueNumericHighPrefix', 'FactValueNumericHigh',\n",
    "       'FactValueTranslationID', 'FactComments', 'Language', 'DateModified'], axis=1, inplace=True)\n",
    "\n",
    "ageRange_df.rename(columns = {'ParentLocationCode':'CountryID',\n",
    "                              'Location': 'Country',\n",
    "                              'Period': 'Year',\n",
    "                              'Dim1': 'Sex',\n",
    "                              'Dim1ValueCode': 'SexID',\n",
    "                              'Dim2': 'Range',\n",
    "                              'Dim2ValueCode': 'RangeID',\n",
    "                              'Value':'Deaths'}, inplace = True)"
   ]
  },
  {
   "cell_type": "markdown",
   "id": "a0d88847-f616-4aac-ae77-03b86e20738f",
   "metadata": {
    "tags": []
   },
   "source": [
    "## Kaggle"
   ]
  },
  {
   "cell_type": "code",
   "execution_count": 51,
   "id": "a8c86b88-e0c1-4257-be14-c18184631fc3",
   "metadata": {},
   "outputs": [],
   "source": [
    "kaggle_df = pd.read_csv('data/kaggle_dataset.csv')\n",
    "\n",
    "kaggle_df.drop(['Alcohol', 'Hepatitis B', 'Measles ', 'Polio', 'Diphtheria ', ' HIV/AIDS', ' thinness  1-19 years', ' thinness 5-9 years',\n",
    "       'Income composition of resources'], axis=1, inplace=True)"
   ]
  },
  {
   "cell_type": "code",
   "execution_count": 52,
   "id": "a7aa9183-fe11-46ba-9bf6-16495da36306",
   "metadata": {},
   "outputs": [],
   "source": [
    "# Replacing the Null Values with mean values of the data\n",
    "from sklearn.impute import SimpleImputer\n",
    "imputer=SimpleImputer(missing_values=np.nan,strategy='mean',fill_value=None)\n",
    "kaggle_df['Life expectancy ']=imputer.fit_transform(kaggle_df[['Life expectancy ']])\n",
    "kaggle_df['Adult Mortality']=imputer.fit_transform(kaggle_df[['Adult Mortality']])\n",
    "kaggle_df[' BMI ']=imputer.fit_transform(kaggle_df[[' BMI ']])\n",
    "kaggle_df['Total expenditure']=imputer.fit_transform(kaggle_df[['Total expenditure']])\n",
    "kaggle_df['GDP']=imputer.fit_transform(kaggle_df[['GDP']])\n",
    "kaggle_df['Population']=imputer.fit_transform(kaggle_df[['Population']])\n",
    "kaggle_df['Schooling']=imputer.fit_transform(kaggle_df[['Schooling']])\n",
    "\n",
    "#kaggle_df.isnull().sum()"
   ]
  },
  {
   "cell_type": "code",
   "execution_count": 53,
   "id": "4b71563b-0b98-4d91-b6e3-543eed7b1fec",
   "metadata": {},
   "outputs": [
    {
     "data": {
      "text/html": [
       "<div>\n",
       "<style scoped>\n",
       "    .dataframe tbody tr th:only-of-type {\n",
       "        vertical-align: middle;\n",
       "    }\n",
       "\n",
       "    .dataframe tbody tr th {\n",
       "        vertical-align: top;\n",
       "    }\n",
       "\n",
       "    .dataframe thead th {\n",
       "        text-align: right;\n",
       "    }\n",
       "</style>\n",
       "<table border=\"1\" class=\"dataframe\">\n",
       "  <thead>\n",
       "    <tr style=\"text-align: right;\">\n",
       "      <th></th>\n",
       "      <th>Country</th>\n",
       "      <th>Year</th>\n",
       "      <th>Status</th>\n",
       "      <th>LifeExpectancy</th>\n",
       "      <th>AdultMortality</th>\n",
       "      <th>InfantDeaths</th>\n",
       "      <th>%Expenditure</th>\n",
       "      <th>BodyMassIndex</th>\n",
       "      <th>DeathsUnder5</th>\n",
       "      <th>TotalExpenditure</th>\n",
       "      <th>GDP</th>\n",
       "      <th>Population</th>\n",
       "      <th>Schooling</th>\n",
       "    </tr>\n",
       "  </thead>\n",
       "  <tbody>\n",
       "    <tr>\n",
       "      <th>0</th>\n",
       "      <td>Afghanistan</td>\n",
       "      <td>2015</td>\n",
       "      <td>Developing</td>\n",
       "      <td>65.0</td>\n",
       "      <td>263.0</td>\n",
       "      <td>62</td>\n",
       "      <td>71.279624</td>\n",
       "      <td>19.1</td>\n",
       "      <td>83</td>\n",
       "      <td>8.16</td>\n",
       "      <td>584.259210</td>\n",
       "      <td>33736494.0</td>\n",
       "      <td>10.1</td>\n",
       "    </tr>\n",
       "    <tr>\n",
       "      <th>1</th>\n",
       "      <td>Afghanistan</td>\n",
       "      <td>2014</td>\n",
       "      <td>Developing</td>\n",
       "      <td>59.9</td>\n",
       "      <td>271.0</td>\n",
       "      <td>64</td>\n",
       "      <td>73.523582</td>\n",
       "      <td>18.6</td>\n",
       "      <td>86</td>\n",
       "      <td>8.18</td>\n",
       "      <td>612.696514</td>\n",
       "      <td>327582.0</td>\n",
       "      <td>10.0</td>\n",
       "    </tr>\n",
       "    <tr>\n",
       "      <th>2</th>\n",
       "      <td>Afghanistan</td>\n",
       "      <td>2013</td>\n",
       "      <td>Developing</td>\n",
       "      <td>59.9</td>\n",
       "      <td>268.0</td>\n",
       "      <td>66</td>\n",
       "      <td>73.219243</td>\n",
       "      <td>18.1</td>\n",
       "      <td>89</td>\n",
       "      <td>8.13</td>\n",
       "      <td>631.744976</td>\n",
       "      <td>31731688.0</td>\n",
       "      <td>9.9</td>\n",
       "    </tr>\n",
       "    <tr>\n",
       "      <th>3</th>\n",
       "      <td>Afghanistan</td>\n",
       "      <td>2012</td>\n",
       "      <td>Developing</td>\n",
       "      <td>59.5</td>\n",
       "      <td>272.0</td>\n",
       "      <td>69</td>\n",
       "      <td>78.184215</td>\n",
       "      <td>17.6</td>\n",
       "      <td>93</td>\n",
       "      <td>8.52</td>\n",
       "      <td>669.959000</td>\n",
       "      <td>3696958.0</td>\n",
       "      <td>9.8</td>\n",
       "    </tr>\n",
       "    <tr>\n",
       "      <th>4</th>\n",
       "      <td>Afghanistan</td>\n",
       "      <td>2011</td>\n",
       "      <td>Developing</td>\n",
       "      <td>59.2</td>\n",
       "      <td>275.0</td>\n",
       "      <td>71</td>\n",
       "      <td>7.097109</td>\n",
       "      <td>17.2</td>\n",
       "      <td>97</td>\n",
       "      <td>7.87</td>\n",
       "      <td>63.537231</td>\n",
       "      <td>2978599.0</td>\n",
       "      <td>9.5</td>\n",
       "    </tr>\n",
       "  </tbody>\n",
       "</table>\n",
       "</div>"
      ],
      "text/plain": [
       "       Country  Year      Status  LifeExpectancy  AdultMortality  \\\n",
       "0  Afghanistan  2015  Developing            65.0           263.0   \n",
       "1  Afghanistan  2014  Developing            59.9           271.0   \n",
       "2  Afghanistan  2013  Developing            59.9           268.0   \n",
       "3  Afghanistan  2012  Developing            59.5           272.0   \n",
       "4  Afghanistan  2011  Developing            59.2           275.0   \n",
       "\n",
       "   InfantDeaths  %Expenditure  BodyMassIndex  DeathsUnder5  TotalExpenditure  \\\n",
       "0            62     71.279624           19.1            83              8.16   \n",
       "1            64     73.523582           18.6            86              8.18   \n",
       "2            66     73.219243           18.1            89              8.13   \n",
       "3            69     78.184215           17.6            93              8.52   \n",
       "4            71      7.097109           17.2            97              7.87   \n",
       "\n",
       "          GDP  Population  Schooling  \n",
       "0  584.259210  33736494.0       10.1  \n",
       "1  612.696514    327582.0       10.0  \n",
       "2  631.744976  31731688.0        9.9  \n",
       "3  669.959000   3696958.0        9.8  \n",
       "4   63.537231   2978599.0        9.5  "
      ]
     },
     "execution_count": 53,
     "metadata": {},
     "output_type": "execute_result"
    }
   ],
   "source": [
    "kaggle_df.rename(columns = {'Life expectancy ':'LifeExpectancy',\n",
    "                            'Adult Mortality':'AdultMortality',\n",
    "                            ' BMI ':'BodyMassIndex',\n",
    "                            'infant deaths':'InfantDeaths',\n",
    "                            'percentage expenditure':'%Expenditure',\n",
    "                            'under-five deaths ':'DeathsUnder5',\n",
    "                            'Total expenditure':'TotalExpenditure'\n",
    "                            }, inplace = True)\n",
    "kaggle_df.head()"
   ]
  },
  {
   "cell_type": "markdown",
   "id": "6e85442a-120e-498d-9aa7-d28be04e654a",
   "metadata": {
    "tags": []
   },
   "source": [
    "## Diseases"
   ]
  },
  {
   "cell_type": "code",
   "execution_count": 76,
   "id": "5822f38c-e945-48ab-8d4d-e75cf7da98b8",
   "metadata": {},
   "outputs": [],
   "source": [
    "valid_values = ['Infectious and parasitic diseases', \n",
    "                'Nutrional deficiences', \n",
    "                'Maligment neoplasms', \n",
    "                'Mental and substance use disorders', \n",
    "                'Neurological conditions', \n",
    "                'Cardiovascular diseases', \n",
    "                'Respiratory diseases', \n",
    "                'Digestive diseases', \n",
    "                'Unintentional injuries', \n",
    "                'Intentional injuries']\n",
    "\n",
    "def clear_dataset(df):\n",
    "    df2 = df.copy()\n",
    "    df2[df2 == \".\"] = np.nan # replace every missing value with nan\n",
    "    df2.drop(['?'], axis=1, inplace=True)\n",
    "    df2.dropna(axis=1, how='all', inplace = True) # remove columns which contain ALL missing value\n",
    "    df2.dropna(axis=0, how='all', inplace = True) # remove rows which contain ALL missing value\n",
    "    df2 = df2[df2['specific1'].isin(valid_values)] # filtered only the diseases we want\n",
    "    return df2"
   ]
  },
  {
   "cell_type": "code",
   "execution_count": 77,
   "id": "e3c97777-33c6-4c68-be99-8a6b351fdea5",
   "metadata": {},
   "outputs": [],
   "source": [
    "diseases2000_df = pd.read_csv('data/2000.csv')\n",
    "diseases2000_df = clear_dataset(diseases2000_df)\n",
    "diseases2000_df = diseases2000_df.T"
   ]
  },
  {
   "cell_type": "code",
   "execution_count": 78,
   "id": "98db53e9-0dea-4ff7-b55f-c95628e2b266",
   "metadata": {},
   "outputs": [],
   "source": [
    "diseases2010_df = pd.read_csv('data/2010.csv')\n",
    "diseases2010_df = clear_dataset(diseases2010_df)\n",
    "diseases2010_df = diseases2010_df.T"
   ]
  },
  {
   "cell_type": "code",
   "execution_count": 79,
   "id": "621385c7-48fb-4260-8396-847cb9e8dc1f",
   "metadata": {},
   "outputs": [],
   "source": [
    "diseases2015_df = pd.read_csv('data/2015.csv')\n",
    "diseases2015_df = clear_dataset(diseases2015_df)\n",
    "diseases2015_df = diseases2015_df.T"
   ]
  },
  {
   "cell_type": "raw",
   "id": "b2c8d48a-0cfb-45c1-82af-5d4a30dba37e",
   "metadata": {},
   "source": [
    "# Rename columns with all category of diseases\n",
    "test = diseases2015_df_traspose.copy()\n",
    "\n",
    "def rename_columns(df):\n",
    "    aux = df.iloc[:4, :].fillna('').apply(lambda x: ' / '.join(x), axis=0)\n",
    "    aux = aux.to_frame().T\n",
    "    df.columns = aux.iloc[0].values\n",
    "    df = df.iloc[1:,:]\n",
    "    return df\n",
    "\n",
    "test = rename_columns(test)\n",
    "test.drop(['specific1', 'specific2', 'specific3'], axis=0, inplace=True)\n",
    "#test.head()"
   ]
  },
  {
   "cell_type": "markdown",
   "id": "41015962-b09e-44c4-ac99-308a2b701acd",
   "metadata": {
    "tags": []
   },
   "source": [
    "# MORTALITY"
   ]
  },
  {
   "cell_type": "markdown",
   "id": "8683d64f-6414-488b-a84a-e3d63cacb123",
   "metadata": {
    "tags": []
   },
   "source": [
    "## Time-line chart\n",
    "- country\n",
    "- year\n",
    "- life expectancy \n",
    "- infant mortality\n",
    "- adult mortality\n",
    "- under-five mortality over the years.\n",
    "\n",
    "Asse x--> year\n",
    "Asse y --> lifeExpectancy/Death('InfantDeaths', 'AdultMortality', 'Deaths<5' tutti e tre insieme)\n",
    "ci saranno due dropdow: uno cambia asse y e uno il paese"
   ]
  },
  {
   "cell_type": "code",
   "execution_count": 59,
   "id": "868064f3-d96b-4b34-bcc6-13eea02e414d",
   "metadata": {},
   "outputs": [
    {
     "data": {
      "text/html": [
       "<div>\n",
       "<style scoped>\n",
       "    .dataframe tbody tr th:only-of-type {\n",
       "        vertical-align: middle;\n",
       "    }\n",
       "\n",
       "    .dataframe tbody tr th {\n",
       "        vertical-align: top;\n",
       "    }\n",
       "\n",
       "    .dataframe thead th {\n",
       "        text-align: right;\n",
       "    }\n",
       "</style>\n",
       "<table border=\"1\" class=\"dataframe\">\n",
       "  <thead>\n",
       "    <tr style=\"text-align: right;\">\n",
       "      <th></th>\n",
       "      <th>Country</th>\n",
       "      <th>Year</th>\n",
       "      <th>LifeExpectancy</th>\n",
       "      <th>InfantDeaths</th>\n",
       "      <th>AdultMortality</th>\n",
       "      <th>DeathsUnder5</th>\n",
       "    </tr>\n",
       "  </thead>\n",
       "  <tbody>\n",
       "    <tr>\n",
       "      <th>0</th>\n",
       "      <td>Afghanistan</td>\n",
       "      <td>2015</td>\n",
       "      <td>65.0</td>\n",
       "      <td>62</td>\n",
       "      <td>263.0</td>\n",
       "      <td>83</td>\n",
       "    </tr>\n",
       "    <tr>\n",
       "      <th>1</th>\n",
       "      <td>Afghanistan</td>\n",
       "      <td>2014</td>\n",
       "      <td>59.9</td>\n",
       "      <td>64</td>\n",
       "      <td>271.0</td>\n",
       "      <td>86</td>\n",
       "    </tr>\n",
       "    <tr>\n",
       "      <th>2</th>\n",
       "      <td>Afghanistan</td>\n",
       "      <td>2013</td>\n",
       "      <td>59.9</td>\n",
       "      <td>66</td>\n",
       "      <td>268.0</td>\n",
       "      <td>89</td>\n",
       "    </tr>\n",
       "    <tr>\n",
       "      <th>3</th>\n",
       "      <td>Afghanistan</td>\n",
       "      <td>2012</td>\n",
       "      <td>59.5</td>\n",
       "      <td>69</td>\n",
       "      <td>272.0</td>\n",
       "      <td>93</td>\n",
       "    </tr>\n",
       "    <tr>\n",
       "      <th>4</th>\n",
       "      <td>Afghanistan</td>\n",
       "      <td>2011</td>\n",
       "      <td>59.2</td>\n",
       "      <td>71</td>\n",
       "      <td>275.0</td>\n",
       "      <td>97</td>\n",
       "    </tr>\n",
       "  </tbody>\n",
       "</table>\n",
       "</div>"
      ],
      "text/plain": [
       "       Country  Year  LifeExpectancy  InfantDeaths  AdultMortality  \\\n",
       "0  Afghanistan  2015            65.0            62           263.0   \n",
       "1  Afghanistan  2014            59.9            64           271.0   \n",
       "2  Afghanistan  2013            59.9            66           268.0   \n",
       "3  Afghanistan  2012            59.5            69           272.0   \n",
       "4  Afghanistan  2011            59.2            71           275.0   \n",
       "\n",
       "   DeathsUnder5  \n",
       "0            83  \n",
       "1            86  \n",
       "2            89  \n",
       "3            93  \n",
       "4            97  "
      ]
     },
     "execution_count": 59,
     "metadata": {},
     "output_type": "execute_result"
    }
   ],
   "source": [
    "cols = ['Country', 'Year', 'LifeExpectancy', 'InfantDeaths', 'AdultMortality', 'DeathsUnder5']\n",
    "time_line = kaggle_df[cols]\n",
    "time_line.head()"
   ]
  },
  {
   "cell_type": "code",
   "execution_count": 14,
   "id": "2508eed3-4d6c-4da5-8f1e-3c3440fdfc8d",
   "metadata": {},
   "outputs": [],
   "source": [
    "time_line.to_csv(\"CSV/time_line.csv\")"
   ]
  },
  {
   "cell_type": "markdown",
   "id": "8a31f5c7-335d-4d47-8c53-1e72d0e90fb4",
   "metadata": {},
   "source": [
    "## Stacked bar chart\n",
    "- CountryID\n",
    "- Country (top 10)\n",
    "- Year\n",
    "- Sex\n",
    "- SexID\n",
    "- Range\n",
    "- RangeID\n",
    "- Deaths\n",
    "- prendere population da kaggle"
   ]
  },
  {
   "cell_type": "code",
   "execution_count": 60,
   "id": "87a04aee-5cea-4a4f-8806-1440add6a184",
   "metadata": {},
   "outputs": [],
   "source": [
    "temp = ageRange_df[ageRange_df['SexID'] == 'BTSX']\n",
    "temp = temp[['Country', 'Year', 'SexID', 'Range', 'Deaths']]\n",
    "ranges = ageRange_df.Range.values.tolist()\n",
    "ranges = list(dict.fromkeys(ranges))"
   ]
  },
  {
   "cell_type": "code",
   "execution_count": 61,
   "id": "e4569746-cd6e-4dcc-86d5-a6b58d185195",
   "metadata": {},
   "outputs": [
    {
     "data": {
      "text/html": [
       "<div>\n",
       "<style scoped>\n",
       "    .dataframe tbody tr th:only-of-type {\n",
       "        vertical-align: middle;\n",
       "    }\n",
       "\n",
       "    .dataframe tbody tr th {\n",
       "        vertical-align: top;\n",
       "    }\n",
       "\n",
       "    .dataframe thead th {\n",
       "        text-align: right;\n",
       "    }\n",
       "</style>\n",
       "<table border=\"1\" class=\"dataframe\">\n",
       "  <thead>\n",
       "    <tr style=\"text-align: right;\">\n",
       "      <th></th>\n",
       "      <th>Country</th>\n",
       "      <th>Year</th>\n",
       "      <th>65-69 years</th>\n",
       "      <th>70-74 years</th>\n",
       "      <th>85+ years</th>\n",
       "      <th>80-84 years</th>\n",
       "      <th>75-79 years</th>\n",
       "      <th>60-64 years</th>\n",
       "      <th>45-49 years</th>\n",
       "      <th>55-59 years</th>\n",
       "      <th>15-19  years</th>\n",
       "      <th>10-14 years</th>\n",
       "      <th>5-9 years</th>\n",
       "      <th>30-34 years</th>\n",
       "      <th>35-39 years</th>\n",
       "      <th>&lt;1 year</th>\n",
       "      <th>50-54 years</th>\n",
       "      <th>20-24 years</th>\n",
       "      <th>40-44 years</th>\n",
       "      <th>1-4 years</th>\n",
       "      <th>25-29 years</th>\n",
       "    </tr>\n",
       "  </thead>\n",
       "  <tbody>\n",
       "    <tr>\n",
       "      <th>3</th>\n",
       "      <td>Democratic Republic of the Congo</td>\n",
       "      <td>2019</td>\n",
       "      <td>10 008</td>\n",
       "      <td>NaN</td>\n",
       "      <td>NaN</td>\n",
       "      <td>NaN</td>\n",
       "      <td>NaN</td>\n",
       "      <td>NaN</td>\n",
       "      <td>NaN</td>\n",
       "      <td>NaN</td>\n",
       "      <td>NaN</td>\n",
       "      <td>NaN</td>\n",
       "      <td>NaN</td>\n",
       "      <td>NaN</td>\n",
       "      <td>NaN</td>\n",
       "      <td>NaN</td>\n",
       "      <td>NaN</td>\n",
       "      <td>NaN</td>\n",
       "      <td>NaN</td>\n",
       "      <td>NaN</td>\n",
       "      <td>NaN</td>\n",
       "    </tr>\n",
       "    <tr>\n",
       "      <th>7</th>\n",
       "      <td>Zimbabwe</td>\n",
       "      <td>2019</td>\n",
       "      <td>NaN</td>\n",
       "      <td>NaN</td>\n",
       "      <td>10 017</td>\n",
       "      <td>NaN</td>\n",
       "      <td>NaN</td>\n",
       "      <td>NaN</td>\n",
       "      <td>NaN</td>\n",
       "      <td>NaN</td>\n",
       "      <td>NaN</td>\n",
       "      <td>NaN</td>\n",
       "      <td>NaN</td>\n",
       "      <td>NaN</td>\n",
       "      <td>NaN</td>\n",
       "      <td>NaN</td>\n",
       "      <td>NaN</td>\n",
       "      <td>NaN</td>\n",
       "      <td>NaN</td>\n",
       "      <td>NaN</td>\n",
       "      <td>NaN</td>\n",
       "    </tr>\n",
       "    <tr>\n",
       "      <th>9</th>\n",
       "      <td>Timor-Leste</td>\n",
       "      <td>2019</td>\n",
       "      <td>10 020</td>\n",
       "      <td>NaN</td>\n",
       "      <td>NaN</td>\n",
       "      <td>NaN</td>\n",
       "      <td>NaN</td>\n",
       "      <td>NaN</td>\n",
       "      <td>NaN</td>\n",
       "      <td>NaN</td>\n",
       "      <td>NaN</td>\n",
       "      <td>NaN</td>\n",
       "      <td>NaN</td>\n",
       "      <td>NaN</td>\n",
       "      <td>NaN</td>\n",
       "      <td>NaN</td>\n",
       "      <td>NaN</td>\n",
       "      <td>NaN</td>\n",
       "      <td>NaN</td>\n",
       "      <td>NaN</td>\n",
       "      <td>NaN</td>\n",
       "    </tr>\n",
       "    <tr>\n",
       "      <th>13</th>\n",
       "      <td>Samoa</td>\n",
       "      <td>2019</td>\n",
       "      <td>10 028</td>\n",
       "      <td>NaN</td>\n",
       "      <td>NaN</td>\n",
       "      <td>NaN</td>\n",
       "      <td>NaN</td>\n",
       "      <td>NaN</td>\n",
       "      <td>NaN</td>\n",
       "      <td>NaN</td>\n",
       "      <td>NaN</td>\n",
       "      <td>NaN</td>\n",
       "      <td>NaN</td>\n",
       "      <td>NaN</td>\n",
       "      <td>NaN</td>\n",
       "      <td>NaN</td>\n",
       "      <td>NaN</td>\n",
       "      <td>NaN</td>\n",
       "      <td>NaN</td>\n",
       "      <td>NaN</td>\n",
       "      <td>NaN</td>\n",
       "    </tr>\n",
       "    <tr>\n",
       "      <th>14</th>\n",
       "      <td>Lithuania</td>\n",
       "      <td>2019</td>\n",
       "      <td>NaN</td>\n",
       "      <td>10 034</td>\n",
       "      <td>NaN</td>\n",
       "      <td>NaN</td>\n",
       "      <td>NaN</td>\n",
       "      <td>NaN</td>\n",
       "      <td>NaN</td>\n",
       "      <td>NaN</td>\n",
       "      <td>NaN</td>\n",
       "      <td>NaN</td>\n",
       "      <td>NaN</td>\n",
       "      <td>NaN</td>\n",
       "      <td>NaN</td>\n",
       "      <td>NaN</td>\n",
       "      <td>NaN</td>\n",
       "      <td>NaN</td>\n",
       "      <td>NaN</td>\n",
       "      <td>NaN</td>\n",
       "      <td>NaN</td>\n",
       "    </tr>\n",
       "  </tbody>\n",
       "</table>\n",
       "</div>"
      ],
      "text/plain": [
       "                             Country  Year 65-69 years 70-74 years 85+ years  \\\n",
       "3   Democratic Republic of the Congo  2019      10 008         NaN       NaN   \n",
       "7                           Zimbabwe  2019         NaN         NaN    10 017   \n",
       "9                        Timor-Leste  2019      10 020         NaN       NaN   \n",
       "13                             Samoa  2019      10 028         NaN       NaN   \n",
       "14                         Lithuania  2019         NaN      10 034       NaN   \n",
       "\n",
       "   80-84 years 75-79 years 60-64 years 45-49 years 55-59 years 15-19  years  \\\n",
       "3          NaN         NaN         NaN         NaN         NaN          NaN   \n",
       "7          NaN         NaN         NaN         NaN         NaN          NaN   \n",
       "9          NaN         NaN         NaN         NaN         NaN          NaN   \n",
       "13         NaN         NaN         NaN         NaN         NaN          NaN   \n",
       "14         NaN         NaN         NaN         NaN         NaN          NaN   \n",
       "\n",
       "   10-14 years 5-9 years 30-34 years 35-39 years <1 year 50-54 years  \\\n",
       "3          NaN       NaN         NaN         NaN     NaN         NaN   \n",
       "7          NaN       NaN         NaN         NaN     NaN         NaN   \n",
       "9          NaN       NaN         NaN         NaN     NaN         NaN   \n",
       "13         NaN       NaN         NaN         NaN     NaN         NaN   \n",
       "14         NaN       NaN         NaN         NaN     NaN         NaN   \n",
       "\n",
       "   20-24 years 40-44 years 1-4 years 25-29 years  \n",
       "3          NaN         NaN       NaN         NaN  \n",
       "7          NaN         NaN       NaN         NaN  \n",
       "9          NaN         NaN       NaN         NaN  \n",
       "13         NaN         NaN       NaN         NaN  \n",
       "14         NaN         NaN       NaN         NaN  "
      ]
     },
     "execution_count": 61,
     "metadata": {},
     "output_type": "execute_result"
    }
   ],
   "source": [
    "for r in ranges:\n",
    "    temp[r] = np.nan\n",
    "    \n",
    "for index, row in temp.iterrows():\n",
    "    current_range = row['Range']\n",
    "    temp.loc[index, current_range] = row['Deaths']\n",
    "\n",
    "temp.drop(columns=[\"SexID\",\"Range\",\"Deaths\"], axis=1, inplace=True)   \n",
    "temp.head()\n"
   ]
  },
  {
   "cell_type": "code",
   "execution_count": 62,
   "id": "8343ddaf-bb9b-406e-880d-d288539d89ee",
   "metadata": {},
   "outputs": [],
   "source": [
    "df = temp.copy()\n",
    "cols = temp.columns\n",
    "merged_df = pd.DataFrame(columns=cols)\n",
    "\n",
    "# loop over each unique country-year pair in the original dataframe\n",
    "for (country, year) in df[['Country', 'Year']].drop_duplicates().to_numpy():\n",
    "    # extract the rows for the current country-year pair\n",
    "    current_rows = df[(df['Country'] == country) & (df['Year'] == year)]\n",
    "    \n",
    "    # create a new row with the merged data\n",
    "    new_row = {'Country': country, 'Year': year}\n",
    "    for column in cols[2:]:\n",
    "        # loop over the values in the current age column, taking the first non-null value\n",
    "        new_value = None\n",
    "        for value in current_rows[column].values:\n",
    "            if pd.notnull(value):\n",
    "                new_value = value\n",
    "                break\n",
    "        new_row[column] = new_value\n",
    "    \n",
    "    # add the new row to the merged dataframe\n",
    "    merged_df = pd.concat([merged_df, pd.DataFrame(new_row, index=[0])], ignore_index=True)\n",
    "    \n",
    "# write the merged dataframe to a csv file\n",
    "merged_df.to_csv('CSV/stacked.csv', index=False)"
   ]
  },
  {
   "cell_type": "code",
   "execution_count": null,
   "id": "77b0fbfe-24c0-404a-b306-6de45fec7587",
   "metadata": {},
   "outputs": [],
   "source": [
    "merged_df.head()"
   ]
  },
  {
   "cell_type": "markdown",
   "id": "f0a6e12a-81ca-44a1-bed5-4d9893ebe0ba",
   "metadata": {},
   "source": [
    "## Histogram\n",
    "- Country\n",
    "- count life expectancy\n",
    "- year"
   ]
  },
  {
   "cell_type": "code",
   "execution_count": 63,
   "id": "ff4e8a6c-d2d8-44c6-85e8-aa8adc250514",
   "metadata": {},
   "outputs": [
    {
     "data": {
      "text/html": [
       "<div>\n",
       "<style scoped>\n",
       "    .dataframe tbody tr th:only-of-type {\n",
       "        vertical-align: middle;\n",
       "    }\n",
       "\n",
       "    .dataframe tbody tr th {\n",
       "        vertical-align: top;\n",
       "    }\n",
       "\n",
       "    .dataframe thead th {\n",
       "        text-align: right;\n",
       "    }\n",
       "</style>\n",
       "<table border=\"1\" class=\"dataframe\">\n",
       "  <thead>\n",
       "    <tr style=\"text-align: right;\">\n",
       "      <th></th>\n",
       "      <th>Year</th>\n",
       "      <th>LifeExpectancy</th>\n",
       "    </tr>\n",
       "  </thead>\n",
       "  <tbody>\n",
       "    <tr>\n",
       "      <th>0</th>\n",
       "      <td>2015</td>\n",
       "      <td>65.0</td>\n",
       "    </tr>\n",
       "    <tr>\n",
       "      <th>1</th>\n",
       "      <td>2014</td>\n",
       "      <td>59.9</td>\n",
       "    </tr>\n",
       "    <tr>\n",
       "      <th>2</th>\n",
       "      <td>2013</td>\n",
       "      <td>59.9</td>\n",
       "    </tr>\n",
       "    <tr>\n",
       "      <th>3</th>\n",
       "      <td>2012</td>\n",
       "      <td>59.5</td>\n",
       "    </tr>\n",
       "    <tr>\n",
       "      <th>4</th>\n",
       "      <td>2011</td>\n",
       "      <td>59.2</td>\n",
       "    </tr>\n",
       "  </tbody>\n",
       "</table>\n",
       "</div>"
      ],
      "text/plain": [
       "   Year  LifeExpectancy\n",
       "0  2015            65.0\n",
       "1  2014            59.9\n",
       "2  2013            59.9\n",
       "3  2012            59.5\n",
       "4  2011            59.2"
      ]
     },
     "execution_count": 63,
     "metadata": {},
     "output_type": "execute_result"
    }
   ],
   "source": [
    "cols = ['Year', 'LifeExpectancy']\n",
    "histogram = kaggle_df[cols]\n",
    "histogram.head()"
   ]
  },
  {
   "cell_type": "code",
   "execution_count": 20,
   "id": "129511ae-ff57-44f8-9be0-0caf3f47377c",
   "metadata": {},
   "outputs": [],
   "source": [
    "histogram.to_csv(\"CSV/histogram.csv\")"
   ]
  },
  {
   "cell_type": "markdown",
   "id": "9ca3cb37-30e1-4e10-b7ee-1d34960ba741",
   "metadata": {
    "tags": []
   },
   "source": [
    "## Heatmap\n",
    "tutte di kaggle\n",
    "utilizzare df.corr() per ottenere la correlazione"
   ]
  },
  {
   "cell_type": "markdown",
   "id": "f06dd3ce-294d-4b44-ba2f-2bedb5532089",
   "metadata": {},
   "source": [
    "#### Correlation for each Country"
   ]
  },
  {
   "cell_type": "code",
   "execution_count": 25,
   "id": "7ac5a845-aa3a-4eeb-b3c1-163519bf8c5b",
   "metadata": {},
   "outputs": [],
   "source": [
    "rows = []\n",
    "columns = [\"LifeExpectancy\", \"AdultMortality\", \"InfantDeaths\", \"BodyMassIndex\", \"DeathsUnder5\", \"TotalExpenditure\", \"GDP\", \"Population\", \"Schooling\"]\n",
    "for country in kaggle_df[\"Country\"].unique():\n",
    "    country_df = kaggle_df[kaggle_df[\"Country\"] == country]\n",
    "    year_corr = country_df[columns].corr()\n",
    "    for i in range(len(columns)):\n",
    "        for j in range(len(columns)):\n",
    "            column1 = columns[i]\n",
    "            column2 = columns[j]\n",
    "            correlation = year_corr.loc[column1, column2]\n",
    "            rows.append([country, column1, column2, correlation])\n",
    "                \n",
    "with open(\"CSV/country_heatmap.csv\", \"w\", encoding=\"utf-8\") as f:\n",
    "    f.write(\"Country,Group1,Group2,corr\\n\")\n",
    "    for row in rows:\n",
    "        f.write(f\"{row[0]},{row[1]},{row[2]},{row[3]}\\n\")"
   ]
  },
  {
   "cell_type": "markdown",
   "id": "14b2db45-623d-457a-a3f2-ed3931cae72f",
   "metadata": {
    "tags": []
   },
   "source": [
    "# DISEASES"
   ]
  },
  {
   "cell_type": "markdown",
   "id": "75331330-3c9a-4a77-aa8d-9be4732ef3f1",
   "metadata": {},
   "source": [
    "## Horizontal bar chart\n",
    "- country \n",
    "- year\n",
    "- 'Infectious and parasitic diseases', 'Nutrional deficiences', 'Maligment neoplasms', 'Mental and substance use disorders', 'Neurological conditions', 'Cardiovascular diseases', 'Respiratory diseases', 'Digestive diseases', 'Skin diseases', 'Unintentional injuries', 'Intentional injuries''"
   ]
  },
  {
   "cell_type": "code",
   "execution_count": 152,
   "id": "03fbe114-8424-462c-807e-cf25777a8722",
   "metadata": {},
   "outputs": [],
   "source": [
    "def processing_diseases(dataframe, year):\n",
    "    df = dataframe.copy()\n",
    "    df.drop(['all_causes', 'specific2','specific3'], axis=0, inplace=True)\n",
    "    \n",
    "    #rename the columns with the value of first row\n",
    "    df.columns = df.iloc[0]\n",
    "    df = df.drop(df.index[0])\n",
    "    \n",
    "    #rename the specific3 column with Country\n",
    "    df = df.rename_axis('specific1').reset_index()\n",
    "    df = df.rename(columns={'specific1': 'Country'})\n",
    "    \n",
    "    #transform to numeric\n",
    "    df = df.apply(pd.to_numeric, errors='ignore')\n",
    "    \n",
    "    # group the columns by their names, sum the values in each group\n",
    "    df = df.groupby(level=0, axis=1).sum()\n",
    "    df = df.set_index(\"Country\").reset_index()\n",
    "    df.insert(1, \"Year\", year)\n",
    "\n",
    "    return df"
   ]
  },
  {
   "cell_type": "code",
   "execution_count": 153,
   "id": "d3cbbc00-3a01-4a98-ba2a-87d04bd05ac8",
   "metadata": {},
   "outputs": [],
   "source": [
    "diseases2000_df = processing_diseases(diseases2000_df, \"2000\")\n",
    "diseases2010_df = processing_diseases(diseases2010_df, \"2010\")\n",
    "diseases2015_df = processing_diseases(diseases2015_df, \"2015\")"
   ]
  },
  {
   "cell_type": "code",
   "execution_count": 154,
   "id": "36a31151-1063-400c-8df3-63cc11033bf6",
   "metadata": {},
   "outputs": [],
   "source": [
    "diseases_df = pd.concat([diseases2000_df, diseases2010_df, diseases2015_df], axis=0)"
   ]
  },
  {
   "cell_type": "markdown",
   "id": "9ae89d39-5566-4264-8c71-6b67276aac5b",
   "metadata": {},
   "source": [
    "## Scatter plot\n",
    "- country (top 10 country by number of death for the specific diseas)\n",
    "- year (2000.csv)\n",
    "- life expectancy\n",
    "- 'Infectious and parasitic diseases', 'Nutrional deficiences', 'Maligment neoplasms', 'Mental and substance use disorders', 'Neurological conditions', 'Cardiovascular diseases', 'Respiratory diseases', 'Digestive diseases', 'Skin diseases', 'Unintentional injuries', 'Intentional injuries''"
   ]
  },
  {
   "cell_type": "markdown",
   "id": "63c1ae11-f914-4ecf-9433-62e7ee8f4349",
   "metadata": {},
   "source": [
    "## Sankey"
   ]
  },
  {
   "cell_type": "markdown",
   "id": "92e8cb9f-c2d3-470b-a128-1f53f94c03d1",
   "metadata": {},
   "source": [
    "- deaths\n",
    "- country\n",
    "- year\n",
    "- communicable\n",
    "- uncommunicable\n",
    "-  'Infectious and parasitic diseases', 'Nutrional deficiences', 'Maligment neoplasms', 'Mental and substance use disorders', 'Neurological conditions', 'Cardiovascular diseases', 'Respiratory diseases', 'Digestive diseases', 'Skin diseases', 'Unintentional injuries', 'Intentional injuries''"
   ]
  },
  {
   "cell_type": "markdown",
   "id": "cefdbe1c-6bf9-4bf6-8b4d-7fc64e214e57",
   "metadata": {
    "tags": []
   },
   "source": [
    "### istruzioni"
   ]
  },
  {
   "cell_type": "markdown",
   "id": "d1d8428f-b4fc-4665-91ab-51d0294a1cc1",
   "metadata": {},
   "source": [
    "l'utente scegliera' il paese con il menu dropdown. A questo punto il codice javascript esegue un file .py. L'argomento del main del programma python e' il nome del paese. il programma python costruisce il grafo del grafico sankey, tenendo conto del paese richiesto all'utente. L'output del programma python e' il file json, il quale e' infine usato da javascript per plottare il grafico d3.js"
   ]
  },
  {
   "cell_type": "raw",
   "id": "4b640fed-0a85-4b38-a26d-c4725434af52",
   "metadata": {},
   "source": [
    "show me a javascript script that runs a python file with a certain argument\n",
    "\n",
    "// This example uses the child_process module to run a Python script with an argument\n",
    "const { spawn } = require('child_process');\n",
    "\n",
    "const pythonProcess = spawn('python', ['my_python_script.py', 'my_argument']);\n",
    "\n",
    "pythonProcess.stdout.on('data', (data) => {\n",
    "  console.log(data.toString());\n",
    "});"
   ]
  },
  {
   "cell_type": "code",
   "execution_count": null,
   "id": "6f7902ca-949a-4055-9e49-231ce7bc7e03",
   "metadata": {},
   "outputs": [],
   "source": []
  },
  {
   "cell_type": "markdown",
   "id": "cd3cd8b6-09d6-42a9-bb9e-331de0c7afc0",
   "metadata": {
    "tags": []
   },
   "source": [
    "# ECONOMIC"
   ]
  },
  {
   "cell_type": "markdown",
   "id": "dadf42d2-bb8c-4b8b-810f-275145ffff70",
   "metadata": {},
   "source": [
    "## Violin chart\n",
    "- country\n",
    "- year\n",
    "- status\n",
    "- life expectancy"
   ]
  },
  {
   "cell_type": "code",
   "execution_count": 29,
   "id": "8e9ab25b-cb07-47b3-8bde-3f980c468f38",
   "metadata": {},
   "outputs": [
    {
     "data": {
      "text/html": [
       "<div>\n",
       "<style scoped>\n",
       "    .dataframe tbody tr th:only-of-type {\n",
       "        vertical-align: middle;\n",
       "    }\n",
       "\n",
       "    .dataframe tbody tr th {\n",
       "        vertical-align: top;\n",
       "    }\n",
       "\n",
       "    .dataframe thead th {\n",
       "        text-align: right;\n",
       "    }\n",
       "</style>\n",
       "<table border=\"1\" class=\"dataframe\">\n",
       "  <thead>\n",
       "    <tr style=\"text-align: right;\">\n",
       "      <th></th>\n",
       "      <th>Year</th>\n",
       "      <th>LifeExpectancy</th>\n",
       "      <th>Status</th>\n",
       "    </tr>\n",
       "  </thead>\n",
       "  <tbody>\n",
       "    <tr>\n",
       "      <th>0</th>\n",
       "      <td>2015</td>\n",
       "      <td>65.0</td>\n",
       "      <td>Developing</td>\n",
       "    </tr>\n",
       "    <tr>\n",
       "      <th>1</th>\n",
       "      <td>2014</td>\n",
       "      <td>59.9</td>\n",
       "      <td>Developing</td>\n",
       "    </tr>\n",
       "    <tr>\n",
       "      <th>2</th>\n",
       "      <td>2013</td>\n",
       "      <td>59.9</td>\n",
       "      <td>Developing</td>\n",
       "    </tr>\n",
       "    <tr>\n",
       "      <th>3</th>\n",
       "      <td>2012</td>\n",
       "      <td>59.5</td>\n",
       "      <td>Developing</td>\n",
       "    </tr>\n",
       "    <tr>\n",
       "      <th>4</th>\n",
       "      <td>2011</td>\n",
       "      <td>59.2</td>\n",
       "      <td>Developing</td>\n",
       "    </tr>\n",
       "  </tbody>\n",
       "</table>\n",
       "</div>"
      ],
      "text/plain": [
       "   Year  LifeExpectancy      Status\n",
       "0  2015            65.0  Developing\n",
       "1  2014            59.9  Developing\n",
       "2  2013            59.9  Developing\n",
       "3  2012            59.5  Developing\n",
       "4  2011            59.2  Developing"
      ]
     },
     "execution_count": 29,
     "metadata": {},
     "output_type": "execute_result"
    }
   ],
   "source": [
    "violin = kaggle_df[['Year', 'LifeExpectancy', 'Status']]\n",
    "#violin = violin.groupby(['Year'])\n",
    "violin.head()"
   ]
  },
  {
   "cell_type": "code",
   "execution_count": 30,
   "id": "2cf7ad86-894a-4c55-b310-c083fd4a5483",
   "metadata": {},
   "outputs": [],
   "source": [
    "violin.to_csv(\"CSV/violin.csv\")"
   ]
  },
  {
   "cell_type": "markdown",
   "id": "aeda621e-f7ed-4175-b084-61512b66aa92",
   "metadata": {
    "tags": []
   },
   "source": [
    "## Scatter plot\n",
    "- TotalExpenditure\n",
    "- GDP\n",
    "- %Expenditure\n",
    "- country\n",
    "- year"
   ]
  },
  {
   "cell_type": "code",
   "execution_count": 31,
   "id": "60a7857d-1af1-4de7-969c-24a538c21674",
   "metadata": {},
   "outputs": [
    {
     "data": {
      "text/html": [
       "<div>\n",
       "<style scoped>\n",
       "    .dataframe tbody tr th:only-of-type {\n",
       "        vertical-align: middle;\n",
       "    }\n",
       "\n",
       "    .dataframe tbody tr th {\n",
       "        vertical-align: top;\n",
       "    }\n",
       "\n",
       "    .dataframe thead th {\n",
       "        text-align: right;\n",
       "    }\n",
       "</style>\n",
       "<table border=\"1\" class=\"dataframe\">\n",
       "  <thead>\n",
       "    <tr style=\"text-align: right;\">\n",
       "      <th></th>\n",
       "      <th>Year</th>\n",
       "      <th>GDP</th>\n",
       "      <th>%Expenditure</th>\n",
       "      <th>LifeExpectancy</th>\n",
       "      <th>Country</th>\n",
       "      <th>Population</th>\n",
       "    </tr>\n",
       "  </thead>\n",
       "  <tbody>\n",
       "    <tr>\n",
       "      <th>0</th>\n",
       "      <td>2015</td>\n",
       "      <td>584.259210</td>\n",
       "      <td>71.279624</td>\n",
       "      <td>65.0</td>\n",
       "      <td>Afghanistan</td>\n",
       "      <td>33736494.0</td>\n",
       "    </tr>\n",
       "    <tr>\n",
       "      <th>1</th>\n",
       "      <td>2014</td>\n",
       "      <td>612.696514</td>\n",
       "      <td>73.523582</td>\n",
       "      <td>59.9</td>\n",
       "      <td>Afghanistan</td>\n",
       "      <td>327582.0</td>\n",
       "    </tr>\n",
       "    <tr>\n",
       "      <th>2</th>\n",
       "      <td>2013</td>\n",
       "      <td>631.744976</td>\n",
       "      <td>73.219243</td>\n",
       "      <td>59.9</td>\n",
       "      <td>Afghanistan</td>\n",
       "      <td>31731688.0</td>\n",
       "    </tr>\n",
       "    <tr>\n",
       "      <th>3</th>\n",
       "      <td>2012</td>\n",
       "      <td>669.959000</td>\n",
       "      <td>78.184215</td>\n",
       "      <td>59.5</td>\n",
       "      <td>Afghanistan</td>\n",
       "      <td>3696958.0</td>\n",
       "    </tr>\n",
       "    <tr>\n",
       "      <th>4</th>\n",
       "      <td>2011</td>\n",
       "      <td>63.537231</td>\n",
       "      <td>7.097109</td>\n",
       "      <td>59.2</td>\n",
       "      <td>Afghanistan</td>\n",
       "      <td>2978599.0</td>\n",
       "    </tr>\n",
       "  </tbody>\n",
       "</table>\n",
       "</div>"
      ],
      "text/plain": [
       "   Year         GDP  %Expenditure  LifeExpectancy      Country  Population\n",
       "0  2015  584.259210     71.279624            65.0  Afghanistan  33736494.0\n",
       "1  2014  612.696514     73.523582            59.9  Afghanistan    327582.0\n",
       "2  2013  631.744976     73.219243            59.9  Afghanistan  31731688.0\n",
       "3  2012  669.959000     78.184215            59.5  Afghanistan   3696958.0\n",
       "4  2011   63.537231      7.097109            59.2  Afghanistan   2978599.0"
      ]
     },
     "execution_count": 31,
     "metadata": {},
     "output_type": "execute_result"
    }
   ],
   "source": [
    "scatter = kaggle_df[['Year', 'GDP', '%Expenditure', 'LifeExpectancy', 'Country', 'Population']]\n",
    "scatter.head()"
   ]
  },
  {
   "cell_type": "code",
   "execution_count": 32,
   "id": "caeee419-8d19-4fbd-a2fe-63a54755a672",
   "metadata": {},
   "outputs": [],
   "source": [
    "scatter.to_csv(\"CSV/scatter_economic.csv\")"
   ]
  },
  {
   "cell_type": "markdown",
   "id": "406bc775-5d34-4369-bd46-a4ba33bcd379",
   "metadata": {},
   "source": [
    "## Choroplet map\n",
    "- country\n",
    "- TotalExpenditure\n",
    "- GDP\n",
    "- %Expenditure\n",
    "- country\n",
    "- year"
   ]
  },
  {
   "cell_type": "code",
   "execution_count": null,
   "id": "06d79216-3a68-4990-8f5c-2bc4111927da",
   "metadata": {},
   "outputs": [],
   "source": []
  },
  {
   "cell_type": "code",
   "execution_count": null,
   "id": "4c54b595-b68f-49dc-9315-f69ad4e01a29",
   "metadata": {},
   "outputs": [],
   "source": []
  }
 ],
 "metadata": {
  "kernelspec": {
   "display_name": "Python 3 (ipykernel)",
   "language": "python",
   "name": "python3"
  },
  "language_info": {
   "codemirror_mode": {
    "name": "ipython",
    "version": 3
   },
   "file_extension": ".py",
   "mimetype": "text/x-python",
   "name": "python",
   "nbconvert_exporter": "python",
   "pygments_lexer": "ipython3",
   "version": "3.9.12"
  }
 },
 "nbformat": 4,
 "nbformat_minor": 5
}
