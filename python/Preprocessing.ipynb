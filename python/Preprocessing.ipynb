{
 "cells": [
  {
   "cell_type": "markdown",
   "id": "e047b004-6a97-4631-9ae1-97ed55d18c2a",
   "metadata": {
    "tags": []
   },
   "source": [
    "# Import"
   ]
  },
  {
   "cell_type": "code",
   "execution_count": 1,
   "id": "7b7d8403-5e30-4140-b8bc-0d6bb5838674",
   "metadata": {},
   "outputs": [],
   "source": [
    "# import libraries\n",
    "import pandas as pd\n",
    "import numpy as np"
   ]
  },
  {
   "cell_type": "code",
   "execution_count": null,
   "id": "abe98cef-3125-46c5-bcc2-a3fb9b43450e",
   "metadata": {},
   "outputs": [],
   "source": [
    "pd.options.display.max_columns = None\n",
    "pd.options.display.max_rows = None"
   ]
  },
  {
   "cell_type": "markdown",
   "id": "14a07bac-2974-4232-b15a-4b6a10088c16",
   "metadata": {
    "jp-MarkdownHeadingCollapsed": true,
    "tags": []
   },
   "source": [
    "## GHO"
   ]
  },
  {
   "cell_type": "code",
   "execution_count": null,
   "id": "71552f59-2325-455f-9c17-d21285af2b9d",
   "metadata": {},
   "outputs": [],
   "source": [
    "# import datasets\n",
    "ageRange_df = pd.read_csv('data/who_people_dying_between_ages.csv')\n",
    "\n",
    "ageRange_df.drop(['IndicatorCode', 'Indicator', 'ValueType',\n",
    "       'ParentLocation', 'Location type', 'SpatialDimValueCode','Period type', 'IsLatestYear', 'Dim1 type', 'Dim2 type',\n",
    "        'Dim3 type',\n",
    "       'Dim3', 'Dim3ValueCode', 'DataSourceDimValueCode', 'DataSource',\n",
    "       'FactValueNumericPrefix', 'FactValueNumeric', 'FactValueUoM',\n",
    "       'FactValueNumericLowPrefix', 'FactValueNumericLow',\n",
    "       'FactValueNumericHighPrefix', 'FactValueNumericHigh',\n",
    "       'FactValueTranslationID', 'FactComments', 'Language', 'DateModified'], axis=1, inplace=True)\n",
    "\n",
    "ageRange_df.rename(columns = {'ParentLocationCode':'CountryID',\n",
    "                              'Location': 'Country',\n",
    "                              'Period': 'Year',\n",
    "                              'Dim1': 'Sex',\n",
    "                              'Dim1ValueCode': 'SexID',\n",
    "                              'Dim2': 'Range',\n",
    "                              'Dim2ValueCode': 'RangeID',\n",
    "                              'Value':'Deaths'}, inplace = True)"
   ]
  },
  {
   "cell_type": "code",
   "execution_count": null,
   "id": "6afa24e3-9b8e-4a3d-8aba-e96bfa521bb6",
   "metadata": {},
   "outputs": [],
   "source": [
    "for i in range(len(ageRange_df)):\n",
    "    for j in range(len(ageRange_df.columns)):\n",
    "        cur_cel = ageRange_df.iloc[i,j]\n",
    "        if(type(cur_cel)==str):\n",
    "            ageRange_df.iloc[i,j] = cur_cel.replace(u'\\xa0', '')"
   ]
  },
  {
   "cell_type": "markdown",
   "id": "a0d88847-f616-4aac-ae77-03b86e20738f",
   "metadata": {
    "jp-MarkdownHeadingCollapsed": true,
    "tags": []
   },
   "source": [
    "## Kaggle"
   ]
  },
  {
   "cell_type": "code",
   "execution_count": null,
   "id": "a8c86b88-e0c1-4257-be14-c18184631fc3",
   "metadata": {},
   "outputs": [],
   "source": [
    "kaggle_df = pd.read_csv('data/kaggle_dataset.csv')\n",
    "\n",
    "#kaggle_df.drop(['Alcohol', 'Hepatitis B', 'Measles ', 'Polio', 'Diphtheria ', ' HIV/AIDS', ' thinness  1-19 years', ' thinness 5-9 years',\n",
    "#       'Income composition of resources'], axis=1, inplace=True)"
   ]
  },
  {
   "cell_type": "code",
   "execution_count": null,
   "id": "a7aa9183-fe11-46ba-9bf6-16495da36306",
   "metadata": {},
   "outputs": [],
   "source": [
    "# Replacing the Null Values with mean values of the data\n",
    "from sklearn.impute import SimpleImputer\n",
    "imputer=SimpleImputer(missing_values=np.nan,strategy='mean',fill_value=None)\n",
    "kaggle_df['Life expectancy ']=imputer.fit_transform(kaggle_df[['Life expectancy ']])\n",
    "kaggle_df['Adult Mortality']=imputer.fit_transform(kaggle_df[['Adult Mortality']])\n",
    "kaggle_df[' BMI ']=imputer.fit_transform(kaggle_df[[' BMI ']])\n",
    "kaggle_df['Total expenditure']=imputer.fit_transform(kaggle_df[['Total expenditure']])\n",
    "kaggle_df['GDP']=imputer.fit_transform(kaggle_df[['GDP']])\n",
    "kaggle_df['Population']=imputer.fit_transform(kaggle_df[['Population']])\n",
    "kaggle_df['Schooling']=imputer.fit_transform(kaggle_df[['Schooling']])\n",
    "kaggle_df['Alcohol']=imputer.fit_transform(kaggle_df[['Alcohol']])\n",
    "kaggle_df['Hepatitis B']=imputer.fit_transform(kaggle_df[['Hepatitis B']])\n",
    "kaggle_df['Polio']=imputer.fit_transform(kaggle_df[['Polio']])\n",
    "kaggle_df['Diphtheria ']=imputer.fit_transform(kaggle_df[['Diphtheria ']])\n",
    "kaggle_df[' thinness  1-19 years']=imputer.fit_transform(kaggle_df[[' thinness  1-19 years']])\n",
    "kaggle_df[' thinness 5-9 years']=imputer.fit_transform(kaggle_df[[' thinness 5-9 years']])\n",
    "kaggle_df['Income composition of resources']=imputer.fit_transform(kaggle_df[['Income composition of resources']])\n",
    "kaggle_df.isnull().sum()"
   ]
  },
  {
   "cell_type": "code",
   "execution_count": null,
   "id": "be752609-96ed-49c7-971f-ed789c72e8f8",
   "metadata": {},
   "outputs": [],
   "source": [
    "kaggle_df.rename(columns = {'Life expectancy ':'LifeExpectancy',\n",
    "                            'Adult Mortality':'AdultMortality',\n",
    "                            ' BMI ':'BodyMassIndex',\n",
    "                            'infant deaths':'InfantDeaths',\n",
    "                            'percentage expenditure':'%Expenditure',\n",
    "                            'under-five deaths ':'DeathsUnder5',\n",
    "                            'Total expenditure':'TotalExpenditure',\n",
    "                            'Diphtheria ':'Diphtheria',\n",
    "                            ' HIV/AIDS':'HIV/AIDS',\n",
    "                            ' thinness  1-19 years':'Thinness 10-19 years',\n",
    "                            ' thinness 5-9 years':'Thinness 5-9 years',\n",
    "                            'Measles ':'Measles',\n",
    "                            'Income composition of resources':'ICOR index'\n",
    "                            }, inplace = True)\n",
    "kaggle_df.head()"
   ]
  },
  {
   "cell_type": "markdown",
   "id": "6e85442a-120e-498d-9aa7-d28be04e654a",
   "metadata": {
    "jp-MarkdownHeadingCollapsed": true,
    "tags": []
   },
   "source": [
    "## Diseases"
   ]
  },
  {
   "cell_type": "code",
   "execution_count": null,
   "id": "5822f38c-e945-48ab-8d4d-e75cf7da98b8",
   "metadata": {},
   "outputs": [],
   "source": [
    "valid_values = ['Infectious and parasitic diseases', \n",
    "                'Nutrional deficiences', \n",
    "                'Maligment neoplasms', \n",
    "                'Mental and substance use disorders', \n",
    "                'Neurological conditions', \n",
    "                'Cardiovascular diseases', \n",
    "                'Respiratory diseases', \n",
    "                'Digestive diseases', \n",
    "                'Unintentional injuries', \n",
    "                'Intentional injuries']\n",
    "\n",
    "def clear_dataset(df):\n",
    "    df2 = df.copy()\n",
    "    df2[df2 == \".\"] = np.nan # replace every missing value with nan\n",
    "    df2.drop(['?'], axis=1, inplace=True)\n",
    "    df2.dropna(axis=1, how='all', inplace = True) # remove columns which contain ALL missing value\n",
    "    df2.dropna(axis=0, how='all', inplace = True) # remove rows which contain ALL missing value\n",
    "    df2 = df2[df2['specific1'].isin(valid_values)] # filtered only the diseases we want\n",
    "    return df2"
   ]
  },
  {
   "cell_type": "code",
   "execution_count": null,
   "id": "e3c97777-33c6-4c68-be99-8a6b351fdea5",
   "metadata": {},
   "outputs": [],
   "source": [
    "diseases2000_df = pd.read_csv('data/2000.csv')\n",
    "diseases2000_df = clear_dataset(diseases2000_df)\n",
    "diseases2000_df = diseases2000_df.T"
   ]
  },
  {
   "cell_type": "code",
   "execution_count": null,
   "id": "98db53e9-0dea-4ff7-b55f-c95628e2b266",
   "metadata": {},
   "outputs": [],
   "source": [
    "diseases2010_df = pd.read_csv('data/2010.csv')\n",
    "diseases2010_df = clear_dataset(diseases2010_df)\n",
    "diseases2010_df = diseases2010_df.T"
   ]
  },
  {
   "cell_type": "code",
   "execution_count": null,
   "id": "621385c7-48fb-4260-8396-847cb9e8dc1f",
   "metadata": {},
   "outputs": [],
   "source": [
    "diseases2015_df = pd.read_csv('data/2015.csv')\n",
    "diseases2015_df = clear_dataset(diseases2015_df)\n",
    "diseases2015_df = diseases2015_df.T"
   ]
  },
  {
   "cell_type": "code",
   "execution_count": null,
   "id": "e1d90961-6aa1-457a-8c85-894b18149638",
   "metadata": {},
   "outputs": [],
   "source": [
    "diseases2019_df = pd.read_csv('data/2019.csv')\n",
    "diseases2019_df = clear_dataset(diseases2019_df)\n",
    "diseases2019_df = diseases2019_df.T"
   ]
  },
  {
   "cell_type": "markdown",
   "id": "41015962-b09e-44c4-ac99-308a2b701acd",
   "metadata": {
    "jp-MarkdownHeadingCollapsed": true,
    "tags": []
   },
   "source": [
    "# MORTALITY"
   ]
  },
  {
   "cell_type": "markdown",
   "id": "8683d64f-6414-488b-a84a-e3d63cacb123",
   "metadata": {
    "tags": []
   },
   "source": [
    "## Time-line chart\n",
    "- country\n",
    "- year\n",
    "- life expectancy \n",
    "- infant mortality\n",
    "- adult mortality\n",
    "- under-five mortality over the years.\n",
    "\n",
    "Asse x--> year\n",
    "Asse y --> lifeExpectancy/Death('InfantDeaths', 'AdultMortality', 'Deaths<5' tutti e tre insieme)\n",
    "ci saranno due dropdow: uno cambia asse y e uno il paese"
   ]
  },
  {
   "cell_type": "code",
   "execution_count": null,
   "id": "868064f3-d96b-4b34-bcc6-13eea02e414d",
   "metadata": {},
   "outputs": [],
   "source": [
    "cols = ['Country', 'Year', 'LifeExpectancy', 'InfantDeaths', 'AdultMortality', 'DeathsUnder5']\n",
    "time_line = kaggle_df[cols]\n",
    "time_line.head()"
   ]
  },
  {
   "cell_type": "code",
   "execution_count": null,
   "id": "2508eed3-4d6c-4da5-8f1e-3c3440fdfc8d",
   "metadata": {},
   "outputs": [],
   "source": [
    "#time_line.to_csv(\"CSV/time_line.csv\")"
   ]
  },
  {
   "cell_type": "markdown",
   "id": "8a31f5c7-335d-4d47-8c53-1e72d0e90fb4",
   "metadata": {},
   "source": [
    "## Stacked bar chart\n",
    "- CountryID\n",
    "- Country (top 10)\n",
    "- Year\n",
    "- Sex\n",
    "- SexID\n",
    "- Range\n",
    "- RangeID\n",
    "- Deaths\n",
    "- prendere population da kaggle"
   ]
  },
  {
   "cell_type": "code",
   "execution_count": null,
   "id": "87a04aee-5cea-4a4f-8806-1440add6a184",
   "metadata": {},
   "outputs": [],
   "source": [
    "temp = ageRange_df[ageRange_df['SexID'] == 'BTSX']\n",
    "temp = temp[['Country', 'Year', 'SexID', 'Range', 'Deaths']]\n",
    "ranges = ageRange_df.Range.values.tolist()\n",
    "ranges = list(dict.fromkeys(ranges))"
   ]
  },
  {
   "cell_type": "code",
   "execution_count": null,
   "id": "e4569746-cd6e-4dcc-86d5-a6b58d185195",
   "metadata": {},
   "outputs": [],
   "source": [
    "for r in ranges:\n",
    "    temp[r] = np.nan\n",
    "    \n",
    "for index, row in temp.iterrows():\n",
    "    current_range = row['Range']\n",
    "    temp.loc[index, current_range] = row['Deaths']\n",
    "\n",
    "temp.drop(columns=[\"SexID\",\"Range\",\"Deaths\"], axis=1, inplace=True)   \n",
    "temp.head()\n"
   ]
  },
  {
   "cell_type": "code",
   "execution_count": null,
   "id": "8343ddaf-bb9b-406e-880d-d288539d89ee",
   "metadata": {},
   "outputs": [],
   "source": [
    "df = temp.copy()\n",
    "cols = temp.columns\n",
    "merged_df = pd.DataFrame(columns=cols)\n",
    "\n",
    "# loop over each unique country-year pair in the original dataframe\n",
    "for (country, year) in df[['Country', 'Year']].drop_duplicates().to_numpy():\n",
    "    # extract the rows for the current country-year pair\n",
    "    current_rows = df[(df['Country'] == country) & (df['Year'] == year)]\n",
    "    \n",
    "    # create a new row with the merged data\n",
    "    new_row = {'Country': country, 'Year': year}\n",
    "    for column in cols[2:]:\n",
    "        # loop over the values in the current age column, taking the first non-null value\n",
    "        new_value = None\n",
    "        for value in current_rows[column].values:\n",
    "            if pd.notnull(value):\n",
    "                new_value = value\n",
    "                break\n",
    "        new_row[column] = new_value\n",
    "    \n",
    "    # add the new row to the merged dataframe\n",
    "    merged_df = pd.concat([merged_df, pd.DataFrame(new_row, index=[0])], ignore_index=True)\n",
    "    \n",
    "'''    \n",
    "merged_df[\"TotalDeaths\"] = 0\n",
    "\n",
    "for index, row in merged_df.iterrows():\n",
    "    row[\"TotalDeaths\"] = sum(merged_df[2:])\n",
    "'''\n",
    "# write the merged dataframe to a csv file\n",
    "#merged_df.to_csv('CSV/stacked.csv', index=False)"
   ]
  },
  {
   "cell_type": "code",
   "execution_count": null,
   "id": "77b0fbfe-24c0-404a-b306-6de45fec7587",
   "metadata": {},
   "outputs": [],
   "source": [
    "merged_df.head()"
   ]
  },
  {
   "cell_type": "markdown",
   "id": "f0a6e12a-81ca-44a1-bed5-4d9893ebe0ba",
   "metadata": {},
   "source": [
    "## Histogram\n",
    "- Country\n",
    "- count life expectancy\n",
    "- year"
   ]
  },
  {
   "cell_type": "code",
   "execution_count": null,
   "id": "ff4e8a6c-d2d8-44c6-85e8-aa8adc250514",
   "metadata": {},
   "outputs": [],
   "source": [
    "cols = ['Year', 'LifeExpectancy']\n",
    "histogram = kaggle_df[cols]\n",
    "histogram.head()"
   ]
  },
  {
   "cell_type": "code",
   "execution_count": null,
   "id": "129511ae-ff57-44f8-9be0-0caf3f47377c",
   "metadata": {},
   "outputs": [],
   "source": [
    "#histogram.to_csv(\"CSV/histogram.csv\")"
   ]
  },
  {
   "cell_type": "markdown",
   "id": "9ca3cb37-30e1-4e10-b7ee-1d34960ba741",
   "metadata": {
    "tags": []
   },
   "source": [
    "## Heatmap\n",
    "tutte di kaggle\n",
    "utilizzare df.corr() per ottenere la correlazione"
   ]
  },
  {
   "cell_type": "markdown",
   "id": "f06dd3ce-294d-4b44-ba2f-2bedb5532089",
   "metadata": {},
   "source": [
    "#### Correlation for each Country"
   ]
  },
  {
   "cell_type": "code",
   "execution_count": null,
   "id": "7ac5a845-aa3a-4eeb-b3c1-163519bf8c5b",
   "metadata": {},
   "outputs": [],
   "source": [
    "rows = []\n",
    "columns = [\"Population\", \"LifeExpectancy\", \"AdultMortality\", \"InfantDeaths\", \"DeathsUnder5\", \"TotalExpenditure\", \"GDP\", \"Schooling\", \"BodyMassIndex\", \"Alcohol\", \"Hepatitis B\", \"Polio\", \"ICOR index\"]\n",
    "for country in kaggle_df[\"Country\"].unique():\n",
    "    country_df = kaggle_df[kaggle_df[\"Country\"] == country]\n",
    "    year_corr = country_df[columns].corr()\n",
    "    for i in range(len(columns)):\n",
    "        for j in range(len(columns)):\n",
    "            column1 = columns[i]\n",
    "            column2 = columns[j]\n",
    "            correlation = year_corr.loc[column1, column2]\n",
    "            rows.append([country, column1, column2, correlation])\n",
    "                \n",
    "with open(\"CSV/country_heatmap.csv\", \"w\", encoding=\"utf-8\") as f:\n",
    "    f.write(\"Country,Group1,Group2,corr\\n\")\n",
    "    for row in rows:\n",
    "        f.write(f\"{row[0]},{row[1]},{row[2]},{row[3]}\\n\")"
   ]
  },
  {
   "cell_type": "markdown",
   "id": "14b2db45-623d-457a-a3f2-ed3931cae72f",
   "metadata": {
    "tags": []
   },
   "source": [
    "# DISEASES"
   ]
  },
  {
   "cell_type": "code",
   "execution_count": null,
   "id": "ddece226-66d4-4cd8-8ea3-56d5838a5036",
   "metadata": {},
   "outputs": [],
   "source": [
    "def processing_diseases(dataframe, year):\n",
    "    df = dataframe.copy()\n",
    "    df.drop(['all_causes', 'specific2','specific3'], axis=0, inplace=True)\n",
    "    \n",
    "    #rename the columns with the value of first row\n",
    "    df.columns = df.iloc[0]\n",
    "    df = df.drop(df.index[0])\n",
    "    \n",
    "    #rename the specific3 column with Country\n",
    "    df = df.rename_axis('specific1').reset_index()\n",
    "    df = df.rename(columns={'specific1': 'Country'})\n",
    "    \n",
    "    #transform to numeric\n",
    "    df = df.apply(pd.to_numeric, errors='ignore')\n",
    "    \n",
    "    # group the columns by their names, sum the values in each group\n",
    "    df = df.groupby(level=0, axis=1).sum()\n",
    "    df = df.set_index(\"Country\").reset_index()\n",
    "    df.insert(1, \"Year\", year)\n",
    "    return df"
   ]
  },
  {
   "cell_type": "code",
   "execution_count": null,
   "id": "f813e0b2-7a81-4950-a7ca-ec2dfff8a515",
   "metadata": {},
   "outputs": [],
   "source": [
    "_diseases2000_df = processing_diseases(diseases2000_df, \"2000\")\n",
    "_diseases2010_df = processing_diseases(diseases2010_df, \"2010\")\n",
    "_diseases2015_df = processing_diseases(diseases2015_df, \"2015\")\n",
    "_diseases2019_df = processing_diseases(diseases2019_df, \"2019\")\n",
    "\n",
    "\n",
    "diseases_df = pd.concat([_diseases2000_df, _diseases2010_df, _diseases2015_df, _diseases2019_df], axis=0)\n",
    "\n",
    "diseases_df.dtypes"
   ]
  },
  {
   "cell_type": "markdown",
   "id": "75331330-3c9a-4a77-aa8d-9be4732ef3f1",
   "metadata": {},
   "source": [
    "## Horizontal bar chart\n",
    "- country \n",
    "- year\n",
    "- 'Infectious and parasitic diseases', 'Nutrional deficiences', 'Maligment neoplasms', 'Mental and substance use disorders', 'Neurological conditions', 'Cardiovascular diseases', 'Respiratory diseases', 'Digestive diseases', 'Skin diseases', 'Unintentional injuries', 'Intentional injuries''"
   ]
  },
  {
   "cell_type": "code",
   "execution_count": null,
   "id": "03fbe114-8424-462c-807e-cf25777a8722",
   "metadata": {},
   "outputs": [],
   "source": [
    "# melt the dataframe to unpivot the columns\n",
    "melted_df = pd.melt(diseases_df, id_vars=['Country', 'Year'], var_name='Disease', value_name='Deaths')\n",
    "\n",
    "# sort the dataframe by Country and Year\n",
    "horizontal_barchart = melted_df.sort_values(['Country', 'Year'])\n",
    "\n",
    "horizontal_barchart.head()"
   ]
  },
  {
   "cell_type": "code",
   "execution_count": null,
   "id": "d3cbbc00-3a01-4a98-ba2a-87d04bd05ac8",
   "metadata": {},
   "outputs": [],
   "source": [
    "#horizontal_barchart.to_csv(\"CSV/horizontal_barchart.csv\")"
   ]
  },
  {
   "cell_type": "code",
   "execution_count": null,
   "id": "36a31151-1063-400c-8df3-63cc11033bf6",
   "metadata": {},
   "outputs": [],
   "source": []
  },
  {
   "cell_type": "markdown",
   "id": "9ae89d39-5566-4264-8c71-6b67276aac5b",
   "metadata": {
    "jp-MarkdownHeadingCollapsed": true,
    "tags": []
   },
   "source": [
    "## Scatter plot\n",
    "- country (top 10 country by number of death for the specific diseas)\n",
    "- year (2000.csv)\n",
    "- life expectancy\n",
    "- 'Infectious and parasitic diseases', 'Nutrional deficiences', 'Maligment neoplasms', 'Mental and substance use disorders', 'Neurological conditions', 'Cardiovascular diseases', 'Respiratory diseases', 'Digestive diseases', 'Skin diseases', 'Unintentional injuries', 'Intentional injuries''"
   ]
  },
  {
   "cell_type": "code",
   "execution_count": null,
   "id": "d6afaabc-784b-41f0-b0e9-c4014cd5cfae",
   "metadata": {},
   "outputs": [],
   "source": [
    "scatter = kaggle_df[[\"LifeExpectancy\", \"Population\", \"Country\", \"Year\"]]\n",
    "prova = scatter[(scatter[\"Country\"] == \"Afghanistan\") & (scatter[\"Year\"] == 2015)]\n",
    "prova"
   ]
  },
  {
   "cell_type": "code",
   "execution_count": null,
   "id": "c3d2ab9f-ca9f-42ee-9fb8-28e5d0b33b54",
   "metadata": {},
   "outputs": [],
   "source": [
    "new_scatter = scatter.copy()\n",
    "new_scatter['Country'] = scatter['Country'].astype(str)\n",
    "new_scatter['Year'] = pd.to_numeric(new_scatter['Year'], errors='coerce').astype('Int64')\n",
    "\n",
    "new_scatter.dtypes\n",
    "#diseases_df.head()"
   ]
  },
  {
   "cell_type": "code",
   "execution_count": null,
   "id": "1acfd8c3-805f-4531-8a63-88a05162186a",
   "metadata": {},
   "outputs": [],
   "source": []
  },
  {
   "cell_type": "code",
   "execution_count": null,
   "id": "5515f8d0-88a8-4da6-a984-f6b2277912b1",
   "metadata": {},
   "outputs": [],
   "source": [
    "new_diseases_df = diseases_df.copy()\n",
    "new_diseases_df['Year'] = pd.to_numeric(new_diseases_df['Year'], errors='coerce').astype('Int64')\n",
    "new_diseases_df.dtypes"
   ]
  },
  {
   "cell_type": "raw",
   "id": "e769d822-c171-41d2-8cc6-a1f0873febba",
   "metadata": {},
   "source": [
    "# Set \"Country\" and \"Year\" as the index in both dataframes\n",
    "df1 = scatter.set_index(['Year'])\n",
    "df2 = diseases_df.set_index(['Year'])\n",
    "\n",
    "print(len(df1.groupby(['Year'])))\n",
    "print(len(df2.groupby(['Year'])))\n",
    "\n",
    "# Concatenate the two dataframes along the columns axis\n",
    "merged_df = pd.concat([df1, df2], axis=1, join='inner')\n",
    "\n",
    "# Reset the index\n",
    "merged_df = merged_df.reset_index()\n",
    "merged_df.head()"
   ]
  },
  {
   "cell_type": "code",
   "execution_count": null,
   "id": "5068cd7d-34c9-4ada-bbc7-ce55883a9986",
   "metadata": {},
   "outputs": [],
   "source": [
    "df1 = new_scatter.copy()\n",
    "df2 = new_diseases_df.copy()"
   ]
  },
  {
   "cell_type": "code",
   "execution_count": null,
   "id": "1c88d735-45eb-4ef9-8ee1-68cd47a93323",
   "metadata": {},
   "outputs": [],
   "source": [
    "# merge the two dataframes on 'Country' and 'Year'\n",
    "result = pd.merge(df1, df2, on=['Country', 'Year'])\n",
    "\n",
    "# select the desired columns in the desired order\n",
    "result = result[['Country', 'Year', 'LifeExpectancy', 'Population', 'Cardiovascular diseases', 'Digestive diseases', 'Infectious and parasitic diseases', 'Intentional injuries', 'Mental and substance use disorders', 'Neurological conditions', 'Respiratory diseases', 'Unintentional injuries']]"
   ]
  },
  {
   "cell_type": "code",
   "execution_count": null,
   "id": "95989c9e-48f6-4437-94c7-b3550d8d6818",
   "metadata": {},
   "outputs": [],
   "source": [
    "#merged_df.to_csv(\"CSV/scatter_diseases.csv\")\n",
    "#result['Population'] = pd.to_numeric(result['Population'], errors='coerce').astype('Int64')\n",
    "result.head()"
   ]
  },
  {
   "cell_type": "code",
   "execution_count": null,
   "id": "254f2944-da67-49ae-be2b-9825892cc6e6",
   "metadata": {},
   "outputs": [],
   "source": [
    "scatter_diseases = r"
   ]
  },
  {
   "cell_type": "code",
   "execution_count": null,
   "id": "b5ab6d28-2b95-49b9-bbe8-43dd5f29fd7f",
   "metadata": {},
   "outputs": [],
   "source": [
    "scatter_diseases.to_csv(\"CSV/scatter_diseases.csv\")"
   ]
  },
  {
   "cell_type": "markdown",
   "id": "63c1ae11-f914-4ecf-9433-62e7ee8f4349",
   "metadata": {},
   "source": [
    "## Sankey"
   ]
  },
  {
   "cell_type": "markdown",
   "id": "92e8cb9f-c2d3-470b-a128-1f53f94c03d1",
   "metadata": {},
   "source": [
    "- deaths\n",
    "- country\n",
    "- year\n",
    "- communicable\n",
    "- uncommunicable\n",
    "-  'Infectious and parasitic diseases', 'Nutrional deficiences', 'Maligment neoplasms', 'Mental and substance use disorders', 'Neurological conditions', 'Cardiovascular diseases', 'Respiratory diseases', 'Digestive diseases', 'Skin diseases', 'Unintentional injuries', 'Intentional injuries''"
   ]
  },
  {
   "cell_type": "markdown",
   "id": "ecefbf89-a4f8-4b0a-b5b3-472251c86b93",
   "metadata": {},
   "source": [
    "source_file = \"data/2000.csv\";\n",
    "country = \"Argentina\";\n",
    "df = pd.read_csv(source_file);"
   ]
  },
  {
   "cell_type": "markdown",
   "id": "247223fe-730c-471d-8581-65066ffb0fc5",
   "metadata": {},
   "source": [
    "link_list = []\n",
    "start_row = 3\n",
    "end_row = 205\n",
    "start_col = 1\n",
    "end_col = 3\n",
    "table_output = []\n",
    "table_output.append(['All Causes', 'Communicable, maternal, perinatal and nutritional conditions', df.loc[3, country]])\n",
    "table_output.append(['All Causes', 'Noncommunicable diseases', df.loc[64, country]])\n",
    "table_output.append(['All Causes', 'Injuries', df.loc[192, country]])\n",
    "for i in range(start_row,end_row):\n",
    "    for j in range(start_col,end_col):\n",
    "        elem = df.iloc[i,j];\n",
    "        right_elem = df.iloc[i,j+1];\n",
    "        num_cases = df.loc[i, country]\n",
    "        if num_cases==\".\" or num_cases==\"0\" or pd.isna(df.iloc[i,j+1]):\n",
    "            num_cases = \"0.0\"\n",
    "        tuple_ = (elem, right_elem)\n",
    "        if tuple_ not in link_list:\n",
    "            link_list.append(tuple_)\n",
    "            table_output.append([elem, right_elem, num_cases])\n",
    "table_output = pd.DataFrame(table_output, columns=['source', 'target', 'value'])\n",
    "table_output = table_output.dropna(how='any', axis=0)\n",
    "table_output.to_csv(\"argentina_sankey.csv\")"
   ]
  },
  {
   "cell_type": "markdown",
   "id": "d162eada-7d13-4117-ac28-a60fcc2eaab5",
   "metadata": {},
   "source": [
    "### Più paesi"
   ]
  },
  {
   "cell_type": "code",
   "execution_count": 30,
   "id": "6cc96135-f1db-4138-9bc1-6045bf827e71",
   "metadata": {},
   "outputs": [],
   "source": [
    "import pandas as pd; import numpy as np\n",
    "df = pd.read_csv(\"data/2000.csv\");\n",
    "countries = list(df.columns);\n",
    "start = np.where(np.array(countries)==\"Afghanistan\")[0][0]\n",
    "end = np.where(np.array(countries)==\"Zimbabwe\")[0][0]\n",
    "countries = countries[start:end+1]\n",
    "firstCol = [\"All Causes\"]\n",
    "secondCol = ['Communicable, maternal, perinatal and nutritional conditions', 'Noncommunicable diseases']\n",
    "thirdCol = list(df['specific2'].dropna().to_numpy())\n",
    "cols_small = [firstCol, secondCol]"
   ]
  },
  {
   "cell_type": "code",
   "execution_count": 40,
   "id": "cf5dac06-47dc-4284-a66b-a400841056c9",
   "metadata": {},
   "outputs": [],
   "source": [
    "def getTotal(table, country, col):\n",
    "    total = 0.\n",
    "    num_conditions = 0\n",
    "    for row in table:\n",
    "        cur_country = row[0];\n",
    "        cur_node = row[1];\n",
    "        value = float(row[3]);\n",
    "        if cur_country == country and cur_node in col:\n",
    "            total = total + value;\n",
    "    return total\n",
    "\n",
    "desired_sum = 20\n",
    "def normalize_country_col(table, country, col):\n",
    "    current_sum = getTotal(table, country, col);\n",
    "    ratio = desired_sum / current_sum\n",
    "    for row in table:\n",
    "        cur_country = row[0];\n",
    "        cur_node = row[1];\n",
    "        value = float(row[3]);\n",
    "        if cur_country == country and cur_node in col:\n",
    "            row[3] = str(value * ratio)\n",
    "    return table\n",
    "\n",
    "def printInfo(table, country, col):\n",
    "    total = 0.\n",
    "    for row in table:\n",
    "        cur_country = row[0];\n",
    "        cur_node = row[1];\n",
    "        value = float(row[3]);\n",
    "        if cur_country == country and cur_node in col:\n",
    "            total = total + value;\n",
    "    print(f\"total of {col} node for country {country} is {total}\");"
   ]
  },
  {
   "cell_type": "code",
   "execution_count": 41,
   "id": "3672144e-5695-4aaa-93de-d31aa600e492",
   "metadata": {},
   "outputs": [],
   "source": [
    "def sankey_df(dataframe, year):\n",
    "    df = dataframe.copy()    \n",
    "    table_output = []\n",
    "    for country in countries:\n",
    "        link_list = []\n",
    "        start_row = 3\n",
    "        end_row = 205\n",
    "        start_col = 1\n",
    "        end_col = 2\n",
    "        table_output.append([country, 'All Causes', 'Communicable, maternal, perinatal and nutritional conditions', df.loc[3, country], df.loc[3, country]])\n",
    "        table_output.append([country, 'All Causes', 'Noncommunicable diseases', df.loc[64, country], df.loc[64, country]])\n",
    "        table_output.append([country, 'All Causes', 'Injuries', df.loc[192, country], df.loc[192, country]])\n",
    "        link_list.append(('All Causes', 'Communicable, maternal, perinatal and nutritional conditions'))\n",
    "        link_list.append(('All Causes', 'Noncommunicable diseases'))\n",
    "        link_list.append(('All Causes', 'Injuries'))\n",
    "        for i in range(start_row,end_row):\n",
    "            for j in range(start_col,end_col):\n",
    "                elem = df.iloc[i,j];\n",
    "                right_elem = df.iloc[i,j+1];\n",
    "                num_cases = df.loc[i, country]\n",
    "                if num_cases==\".\" or num_cases==\"0\" or pd.isna(df.iloc[i,j+1]):\n",
    "                    num_cases = \"0.0\"\n",
    "                    continue\n",
    "                tuple_ = (elem, right_elem)\n",
    "                if tuple_ not in link_list:\n",
    "                    link_list.append(tuple_)\n",
    "                    table_output.append([country, elem, right_elem, num_cases, num_cases])\n",
    "        \n",
    "    for country in countries:\n",
    "        normalize_country_col(table_output, country, ['All Causes'])\n",
    "        normalize_country_col(table_output, country, ['Communicable, maternal, perinatal and nutritional conditions', 'Noncommunicable diseases', 'Injuries'])\n",
    "    \n",
    "    table_output = pd.DataFrame(table_output, columns=[country, 'source', 'target', 'value', 'real deaths'])\n",
    "    table_output['value'] = table_output['value'].astype(float)\n",
    "    table_output = table_output[table_output['value'] >= desired_sum / 1000]\n",
    "    table_output = table_output.dropna(how='any', axis=0)\n",
    "    table_output.rename(columns = {'Zimbabwe':'Country'}, inplace=True)\n",
    "    table_output.insert(1, \"Year\", year)\n",
    "    return table_output"
   ]
  },
  {
   "cell_type": "code",
   "execution_count": 42,
   "id": "6f4187d6-f72d-41f7-9096-605f178c8765",
   "metadata": {},
   "outputs": [],
   "source": [
    "df1 = pd.read_csv(\"data/2000.csv\")\n",
    "df2 = pd.read_csv(\"data/2010.csv\")\n",
    "df3 = pd.read_csv(\"data/2015.csv\")\n",
    "df4 = pd.read_csv(\"data/2019.csv\")"
   ]
  },
  {
   "cell_type": "code",
   "execution_count": 43,
   "id": "dcd603c3-8379-4057-9d16-78d9182cc12f",
   "metadata": {},
   "outputs": [],
   "source": [
    "sankey2000 = sankey_df(df1, \"2000\")\n",
    "sankey2010 = sankey_df(df2, \"2010\")\n",
    "sankey2015 = sankey_df(df3, \"2015\")\n",
    "sankey2019 = sankey_df(df4, \"2019\")\n",
    "global_sankey = pd.concat([sankey2000, sankey2010, sankey2015, sankey2019], axis=0)"
   ]
  },
  {
   "cell_type": "code",
   "execution_count": 44,
   "id": "a0240918-52a0-4b10-96d7-6203dfbdba83",
   "metadata": {},
   "outputs": [
    {
     "data": {
      "text/html": [
       "<div>\n",
       "<style scoped>\n",
       "    .dataframe tbody tr th:only-of-type {\n",
       "        vertical-align: middle;\n",
       "    }\n",
       "\n",
       "    .dataframe tbody tr th {\n",
       "        vertical-align: top;\n",
       "    }\n",
       "\n",
       "    .dataframe thead th {\n",
       "        text-align: right;\n",
       "    }\n",
       "</style>\n",
       "<table border=\"1\" class=\"dataframe\">\n",
       "  <thead>\n",
       "    <tr style=\"text-align: right;\">\n",
       "      <th></th>\n",
       "      <th>Country</th>\n",
       "      <th>Year</th>\n",
       "      <th>source</th>\n",
       "      <th>target</th>\n",
       "      <th>value</th>\n",
       "      <th>real deaths</th>\n",
       "    </tr>\n",
       "  </thead>\n",
       "  <tbody>\n",
       "    <tr>\n",
       "      <th>1977</th>\n",
       "      <td>Italy</td>\n",
       "      <td>2000</td>\n",
       "      <td>All Causes</td>\n",
       "      <td>Communicable, maternal, perinatal and nutritio...</td>\n",
       "      <td>0.669132</td>\n",
       "      <td>19.0</td>\n",
       "    </tr>\n",
       "    <tr>\n",
       "      <th>1978</th>\n",
       "      <td>Italy</td>\n",
       "      <td>2000</td>\n",
       "      <td>All Causes</td>\n",
       "      <td>Noncommunicable diseases</td>\n",
       "      <td>18.390562</td>\n",
       "      <td>522.2</td>\n",
       "    </tr>\n",
       "    <tr>\n",
       "      <th>1979</th>\n",
       "      <td>Italy</td>\n",
       "      <td>2000</td>\n",
       "      <td>All Causes</td>\n",
       "      <td>Injuries</td>\n",
       "      <td>0.940306</td>\n",
       "      <td>26.7</td>\n",
       "    </tr>\n",
       "  </tbody>\n",
       "</table>\n",
       "</div>"
      ],
      "text/plain": [
       "     Country  Year      source  \\\n",
       "1977   Italy  2000  All Causes   \n",
       "1978   Italy  2000  All Causes   \n",
       "1979   Italy  2000  All Causes   \n",
       "\n",
       "                                                 target      value real deaths  \n",
       "1977  Communicable, maternal, perinatal and nutritio...   0.669132        19.0  \n",
       "1978                           Noncommunicable diseases  18.390562       522.2  \n",
       "1979                                           Injuries   0.940306        26.7  "
      ]
     },
     "execution_count": 44,
     "metadata": {},
     "output_type": "execute_result"
    }
   ],
   "source": [
    "query = \"Year == '2000' and Country == 'Italy' and source=='All Causes'\"\n",
    "global_sankey.query(query)"
   ]
  },
  {
   "cell_type": "code",
   "execution_count": 45,
   "id": "028d9030-f4e8-41ac-93de-feabf9f74052",
   "metadata": {},
   "outputs": [
    {
     "data": {
      "text/html": [
       "<div>\n",
       "<style scoped>\n",
       "    .dataframe tbody tr th:only-of-type {\n",
       "        vertical-align: middle;\n",
       "    }\n",
       "\n",
       "    .dataframe tbody tr th {\n",
       "        vertical-align: top;\n",
       "    }\n",
       "\n",
       "    .dataframe thead th {\n",
       "        text-align: right;\n",
       "    }\n",
       "</style>\n",
       "<table border=\"1\" class=\"dataframe\">\n",
       "  <thead>\n",
       "    <tr style=\"text-align: right;\">\n",
       "      <th></th>\n",
       "      <th>Country</th>\n",
       "      <th>Year</th>\n",
       "      <th>source</th>\n",
       "      <th>target</th>\n",
       "      <th>value</th>\n",
       "      <th>real deaths</th>\n",
       "    </tr>\n",
       "  </thead>\n",
       "  <tbody>\n",
       "    <tr>\n",
       "      <th>2001</th>\n",
       "      <td>Italy</td>\n",
       "      <td>2000</td>\n",
       "      <td>Injuries</td>\n",
       "      <td>Unintentional injuries</td>\n",
       "      <td>0.761368</td>\n",
       "      <td>21.6</td>\n",
       "    </tr>\n",
       "    <tr>\n",
       "      <th>2002</th>\n",
       "      <td>Italy</td>\n",
       "      <td>2000</td>\n",
       "      <td>Injuries</td>\n",
       "      <td>Intentional injuries</td>\n",
       "      <td>0.176243</td>\n",
       "      <td>5.0</td>\n",
       "    </tr>\n",
       "  </tbody>\n",
       "</table>\n",
       "</div>"
      ],
      "text/plain": [
       "     Country  Year    source                  target     value real deaths\n",
       "2001   Italy  2000  Injuries  Unintentional injuries  0.761368        21.6\n",
       "2002   Italy  2000  Injuries    Intentional injuries  0.176243         5.0"
      ]
     },
     "execution_count": 45,
     "metadata": {},
     "output_type": "execute_result"
    }
   ],
   "source": [
    "query = \"Year == '2000' and Country == 'Italy' and source=='Injuries'\"\n",
    "global_sankey.query(query)"
   ]
  },
  {
   "cell_type": "code",
   "execution_count": 46,
   "id": "8b4becde-4207-496f-875f-a99ca2381954",
   "metadata": {},
   "outputs": [],
   "source": [
    "global_sankey.to_csv(\"CSV/global_sankey.csv\")"
   ]
  },
  {
   "cell_type": "code",
   "execution_count": 47,
   "id": "42f97699-0426-450b-95f4-0184dbcc96e4",
   "metadata": {},
   "outputs": [
    {
     "name": "stdout",
     "output_type": "stream",
     "text": [
      "Country        0\n",
      "Year           0\n",
      "source         0\n",
      "target         0\n",
      "value          0\n",
      "real deaths    0\n",
      "dtype: int64\n"
     ]
    }
   ],
   "source": [
    "print(global_sankey.isnull().sum())"
   ]
  },
  {
   "cell_type": "markdown",
   "id": "b4e60143-b54c-4154-82f2-f1737ebdc11f",
   "metadata": {},
   "source": [
    "### convert to json"
   ]
  },
  {
   "cell_type": "raw",
   "id": "9341b6aa-5092-4af0-b748-d6d60952c415",
   "metadata": {},
   "source": [
    "import json\n",
    "\n",
    "# Read CSV file into a pandas dataframe\n",
    "df = pd.read_csv(\"CSV/global_sankey.csv\")\n",
    "\n",
    "# Group by source, target, Country, and Year columns, and aggregate the values\n",
    "grouped_df = df.groupby(['source', 'target', 'Country', 'Year'])['value'].sum().reset_index()\n",
    "\n",
    "# Convert the pandas dataframe to a list of dictionaries with the required format\n",
    "links = []\n",
    "for _, row in grouped_df.iterrows():\n",
    "    links.append({\"source\": row['source'],\n",
    "                  \"target\": row['target'],\n",
    "                  \"value\": row['value'],\n",
    "                  \"Country\": row['Country'],\n",
    "                  \"Year\": row['Year']})\n",
    "\n",
    "# Create a dictionary with links list\n",
    "data_dict = {\"links\": links}\n",
    "\n",
    "# Save the dictionary as a JSON file\n",
    "with open('sankey.json', 'w') as f:\n",
    "    json.dump(data_dict, f)"
   ]
  },
  {
   "cell_type": "markdown",
   "id": "cd3cd8b6-09d6-42a9-bb9e-331de0c7afc0",
   "metadata": {
    "jp-MarkdownHeadingCollapsed": true,
    "tags": []
   },
   "source": [
    "# ECONOMIC"
   ]
  },
  {
   "cell_type": "markdown",
   "id": "dadf42d2-bb8c-4b8b-810f-275145ffff70",
   "metadata": {
    "jp-MarkdownHeadingCollapsed": true,
    "tags": []
   },
   "source": [
    "## Violin chart\n",
    "- country\n",
    "- year\n",
    "- status\n",
    "- life expectancy"
   ]
  },
  {
   "cell_type": "code",
   "execution_count": null,
   "id": "8e9ab25b-cb07-47b3-8bde-3f980c468f38",
   "metadata": {},
   "outputs": [],
   "source": [
    "violin = kaggle_df[['Year', 'LifeExpectancy', 'Status']]\n",
    "#violin = violin.groupby(['Year'])\n",
    "violin.head()"
   ]
  },
  {
   "cell_type": "code",
   "execution_count": null,
   "id": "2cf7ad86-894a-4c55-b310-c083fd4a5483",
   "metadata": {},
   "outputs": [],
   "source": [
    "#violin.to_csv(\"CSV/violin.csv\")"
   ]
  },
  {
   "cell_type": "markdown",
   "id": "aeda621e-f7ed-4175-b084-61512b66aa92",
   "metadata": {
    "tags": []
   },
   "source": [
    "## Scatter plot\n",
    "- TotalExpenditure\n",
    "- GDP\n",
    "- %Expenditure\n",
    "- country\n",
    "- year"
   ]
  },
  {
   "cell_type": "code",
   "execution_count": null,
   "id": "60a7857d-1af1-4de7-969c-24a538c21674",
   "metadata": {},
   "outputs": [],
   "source": [
    "scatter = kaggle_df[['Year', 'GDP', 'TotalExpenditure', '%Expenditure', 'LifeExpectancy', 'Country', 'Population', \"Schooling\"]]\n",
    "scatter = scatter.rename(columns = {'TotalExpenditure':'Gov Health Expenditure'}, inplace = False)\n",
    "scatter.head()"
   ]
  },
  {
   "cell_type": "code",
   "execution_count": null,
   "id": "caeee419-8d19-4fbd-a2fe-63a54755a672",
   "metadata": {},
   "outputs": [],
   "source": [
    "scatter.to_csv(\"CSV/scatter_economic.csv\")"
   ]
  },
  {
   "cell_type": "markdown",
   "id": "406bc775-5d34-4369-bd46-a4ba33bcd379",
   "metadata": {},
   "source": [
    "## Choroplet map\n",
    "- country\n",
    "- TotalExpenditure\n",
    "- GDP\n",
    "- %Expenditure\n",
    "- country\n",
    "- year"
   ]
  },
  {
   "cell_type": "code",
   "execution_count": null,
   "id": "06d79216-3a68-4990-8f5c-2bc4111927da",
   "metadata": {},
   "outputs": [],
   "source": [
    "map_df = kaggle_df[[\"Year\", \"Country\", \"LifeExpectancy\", \"AdultMortality\", \"Population\", \"GDP\", \"TotalExpenditure\", \"Schooling\", \"ICOR index\"]]\n",
    "map_df = map_df.rename(columns = {'TotalExpenditure':'Gov Health Expenditure',\n",
    "                                  'ICOR index':'ICOR'\n",
    "                                 }, inplace = False)\n",
    "map_df.head()"
   ]
  },
  {
   "cell_type": "code",
   "execution_count": null,
   "id": "4c54b595-b68f-49dc-9315-f69ad4e01a29",
   "metadata": {},
   "outputs": [],
   "source": [
    "map_df.to_csv(\"CSV/map_economic.csv\")"
   ]
  }
 ],
 "metadata": {
  "kernelspec": {
   "display_name": "Python 3 (ipykernel)",
   "language": "python",
   "name": "python3"
  },
  "language_info": {
   "codemirror_mode": {
    "name": "ipython",
    "version": 3
   },
   "file_extension": ".py",
   "mimetype": "text/x-python",
   "name": "python",
   "nbconvert_exporter": "python",
   "pygments_lexer": "ipython3",
   "version": "3.9.12"
  }
 },
 "nbformat": 4,
 "nbformat_minor": 5
}
