{
 "cells": [
  {
   "cell_type": "code",
   "execution_count": 1,
   "id": "191de0d3-d000-46b4-891a-aa5336e84bc1",
   "metadata": {},
   "outputs": [],
   "source": [
    "import pandas as pd"
   ]
  },
  {
   "cell_type": "code",
   "execution_count": 2,
   "id": "bca79ed0-a5c3-43db-994d-5d4dcfef03f3",
   "metadata": {},
   "outputs": [],
   "source": [
    "import pandas as pd\n",
    "source_file = \"data/2000.csv\";\n",
    "dest_file = \"data/sankey.json\";\n",
    "!echo {\"nodes\": [ > data/sankey.json\n",
    "df = pd.read_csv(source_file);\n",
    "country = \"Argentina\";"
   ]
  },
  {
   "cell_type": "code",
   "execution_count": 3,
   "id": "7b260919-373f-4571-92b5-1e378ee6dfff",
   "metadata": {},
   "outputs": [],
   "source": [
    "#df.head(100)"
   ]
  },
  {
   "cell_type": "code",
   "execution_count": 4,
   "id": "5d00ed0c-78f0-4a61-82b1-50c5abd86878",
   "metadata": {},
   "outputs": [
    {
     "data": {
      "text/plain": [
       "'34.0'"
      ]
     },
     "execution_count": 4,
     "metadata": {},
     "output_type": "execute_result"
    }
   ],
   "source": [
    "df.loc[3, \"Argentina\"]"
   ]
  },
  {
   "cell_type": "code",
   "execution_count": 5,
   "id": "12a6116c-57c1-417c-8c7a-e9ddca3c16e9",
   "metadata": {},
   "outputs": [],
   "source": [
    "def del_last_occurrence(path, char_):\n",
    "    file = open(path, \"r\")\n",
    "    contents = file.read()\n",
    "    file.close()\n",
    "    p_index = contents.rfind(char_)\n",
    "    contents = contents[:p_index] + contents[p_index+1:]\n",
    "    file = open(path, \"w\")\n",
    "    file.write(contents)\n",
    "    file.close()\n",
    "\n",
    "def add_node_to_graph(curr_id, node_name):\n",
    "    append_me = \"{ \\\"node\\\": \"+str(curr_id)+\"\"\n",
    "    append_me += \", \\\"name\\\": \\\"\"+str(node_name)+\"\\\"},\"\n",
    "    with open(dest_file, 'a') as file:\n",
    "        file.write(\"\\n\"+append_me+\"\\n\")\n",
    "        \n",
    "def add_link_to_graph(source, target, value):\n",
    "    append_me = \"{\\\"source\\\": \"+str(source)+\", \";\n",
    "    append_me += \"\\\"target\\\": \"+str(target)+\", \";\n",
    "    append_me += \"\\\"value\\\": \"+value+\"},\";\n",
    "    with open(dest_file, 'a') as file:\n",
    "        file.write(\"\\n\"+append_me+\"\\n\")"
   ]
  },
  {
   "cell_type": "code",
   "execution_count": 6,
   "id": "034d3058-d2dc-4e92-b446-6a2adbbca656",
   "metadata": {},
   "outputs": [],
   "source": [
    "condition_list = []\n",
    "condition_dict = dict()\n",
    "start_row = 3\n",
    "end_row = 205\n",
    "start_col = 1\n",
    "end_col = 4\n",
    "for i in range(start_row,end_row):\n",
    "    for j in range(start_col,end_col):\n",
    "        elem = df.iloc[i,j]\n",
    "        if elem not in condition_list:\n",
    "            condition_list.append(elem);\n",
    "\n",
    "for i, condition in enumerate(condition_list):\n",
    "        add_node_to_graph(i, condition);\n",
    "        condition_dict[condition]=i;\n",
    "        \n",
    "del_last_occurrence(dest_file, \",\")\n",
    "    \n",
    "!echo ], \"links\": [ >> data/sankey.json"
   ]
  },
  {
   "cell_type": "code",
   "execution_count": 7,
   "id": "53c36320-6b16-442b-97a7-266ba6e0d08e",
   "metadata": {},
   "outputs": [],
   "source": [
    "link_list = []\n",
    "start_row = 3\n",
    "end_row = 205\n",
    "start_col = 1\n",
    "end_col = 3\n",
    "for i in range(start_row,end_row):\n",
    "    for j in range(start_col,end_col):\n",
    "        elem = df.iloc[i,j];\n",
    "        right_elem = df.iloc[i,j+1];\n",
    "        num_cases = df.loc[i, country]\n",
    "        if num_cases==\".\" or num_cases==\"0\":\n",
    "            num_cases = \"0.0\"\n",
    "        tuple_ = (elem, right_elem)\n",
    "        if not pd.isna(right_elem) and tuple_ not in link_list:\n",
    "            add_link_to_graph(condition_dict[elem], condition_dict[right_elem], num_cases)\n",
    "del_last_occurrence(dest_file, \",\")        "
   ]
  },
  {
   "cell_type": "code",
   "execution_count": 8,
   "id": "2d638a9a-cf75-4c9a-a814-c54671dc4bc1",
   "metadata": {},
   "outputs": [],
   "source": [
    "!echo ]} >> data/sankey.json"
   ]
  },
  {
   "cell_type": "code",
   "execution_count": null,
   "id": "4299f208-3d2f-41e1-9b54-110822091e1b",
   "metadata": {},
   "outputs": [],
   "source": []
  }
 ],
 "metadata": {
  "kernelspec": {
   "display_name": "Python 3 (ipykernel)",
   "language": "python",
   "name": "python3"
  },
  "language_info": {
   "codemirror_mode": {
    "name": "ipython",
    "version": 3
   },
   "file_extension": ".py",
   "mimetype": "text/x-python",
   "name": "python",
   "nbconvert_exporter": "python",
   "pygments_lexer": "ipython3",
   "version": "3.9.12"
  }
 },
 "nbformat": 4,
 "nbformat_minor": 5
}
